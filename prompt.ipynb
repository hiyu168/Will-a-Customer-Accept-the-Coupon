{
 "cells": [
  {
   "cell_type": "markdown",
   "metadata": {},
   "source": [
    "### Will a Customer Accept the Coupon?\n",
    "\n",
    "**Context**\n",
    "\n",
    "Imagine driving through town and a coupon is delivered to your cell phone for a restaraunt near where you are driving. Would you accept that coupon and take a short detour to the restaraunt? Would you accept the coupon but use it on a sunbsequent trip? Would you ignore the coupon entirely? What if the coupon was for a bar instead of a restaraunt? What about a coffee house? Would you accept a bar coupon with a minor passenger in the car? What about if it was just you and your partner in the car? Would weather impact the rate of acceptance? What about the time of day?\n",
    "\n",
    "Obviously, proximity to the business is a factor on whether the coupon is delivered to the driver or not, but what are the factors that determine whether a driver accepts the coupon once it is delivered to them? How would you determine whether a driver is likely to accept a coupon?\n",
    "\n",
    "**Overview**\n",
    "\n",
    "The goal of this project is to use what you know about visualizations and probability distributions to distinguish between customers who accepted a driving coupon versus those that did not.\n",
    "\n",
    "**Data**\n",
    "\n",
    "This data comes to us from the UCI Machine Learning repository and was collected via a survey on Amazon Mechanical Turk. The survey describes different driving scenarios including the destination, current time, weather, passenger, etc., and then ask the person whether he will accept the coupon if he is the driver. Answers that the user will drive there ‘right away’ or ‘later before the coupon expires’ are labeled as ‘Y = 1’ and answers ‘no, I do not want the coupon’ are labeled as ‘Y = 0’.  There are five different types of coupons -- less expensive restaurants (under \\\\$20), coffee houses, carry out & take away, bar, and more expensive restaurants (\\\\$20 - \\\\$50). "
   ]
  },
  {
   "cell_type": "markdown",
   "metadata": {},
   "source": [
    "**Deliverables**\n",
    "\n",
    "Your final product should be a brief report that highlights the differences between customers who did and did not accept the coupons.  To explore the data you will utilize your knowledge of plotting, statistical summaries, and visualization using Python. You will publish your findings in a public facing github repository as your first portfolio piece. \n",
    "\n",
    "\n",
    "\n"
   ]
  },
  {
   "cell_type": "markdown",
   "metadata": {},
   "source": [
    "### Data Description\n",
    "Keep in mind that these values mentioned below are average values.\n",
    "\n",
    "The attributes of this data set include:\n",
    "1. User attributes\n",
    "    -  Gender: male, female\n",
    "    -  Age: below 21, 21 to 25, 26 to 30, etc.\n",
    "    -  Marital Status: single, married partner, unmarried partner, or widowed\n",
    "    -  Number of children: 0, 1, or more than 1\n",
    "    -  Education: high school, bachelors degree, associates degree, or graduate degree\n",
    "    -  Occupation: architecture & engineering, business & financial, etc.\n",
    "    -  Annual income: less than \\\\$12500, \\\\$12500 - \\\\$24999, \\\\$25000 - \\\\$37499, etc.\n",
    "    -  Number of times that he/she goes to a bar: 0, less than 1, 1 to 3, 4 to 8 or greater than 8\n",
    "    -  Number of times that he/she buys takeaway food: 0, less than 1, 1 to 3, 4 to 8 or greater\n",
    "    than 8\n",
    "    -  Number of times that he/she goes to a coffee house: 0, less than 1, 1 to 3, 4 to 8 or\n",
    "    greater than 8\n",
    "    -  Number of times that he/she eats at a restaurant with average expense less than \\\\$20 per\n",
    "    person: 0, less than 1, 1 to 3, 4 to 8 or greater than 8\n",
    "    -  Number of times that he/she goes to a bar: 0, less than 1, 1 to 3, 4 to 8 or greater than 8\n",
    "    \n",
    "\n",
    "2. Contextual attributes\n",
    "    - Driving destination: home, work, or no urgent destination\n",
    "    - Location of user, coupon and destination: we provide a map to show the geographical\n",
    "    location of the user, destination, and the venue, and we mark the distance between each\n",
    "    two places with time of driving. The user can see whether the venue is in the same\n",
    "    direction as the destination.\n",
    "    - Weather: sunny, rainy, or snowy\n",
    "    - Temperature: 30F, 55F, or 80F\n",
    "    - Time: 10AM, 2PM, or 6PM\n",
    "    - Passenger: alone, partner, kid(s), or friend(s)\n",
    "\n",
    "\n",
    "3. Coupon attributes\n",
    "    - time before it expires: 2 hours or one day"
   ]
  },
  {
   "cell_type": "code",
   "execution_count": 54,
   "metadata": {},
   "outputs": [],
   "source": [
    "import matplotlib.pyplot as plt\n",
    "import seaborn as sns\n",
    "import pandas as pd\n",
    "import numpy as np\n",
    "import plotly.express as px"
   ]
  },
  {
   "cell_type": "markdown",
   "metadata": {},
   "source": [
    "### Problems\n",
    "\n",
    "Use the prompts below to get started with your data analysis.  \n",
    "\n",
    "1. Read in the `coupons.csv` file.\n",
    "\n",
    "\n"
   ]
  },
  {
   "cell_type": "code",
   "execution_count": 2,
   "metadata": {},
   "outputs": [],
   "source": [
    "data = pd.read_csv('data/coupons.csv')"
   ]
  },
  {
   "cell_type": "code",
   "execution_count": 3,
   "metadata": {},
   "outputs": [
    {
     "data": {
      "text/html": [
       "<div>\n",
       "<style scoped>\n",
       "    .dataframe tbody tr th:only-of-type {\n",
       "        vertical-align: middle;\n",
       "    }\n",
       "\n",
       "    .dataframe tbody tr th {\n",
       "        vertical-align: top;\n",
       "    }\n",
       "\n",
       "    .dataframe thead th {\n",
       "        text-align: right;\n",
       "    }\n",
       "</style>\n",
       "<table border=\"1\" class=\"dataframe\">\n",
       "  <thead>\n",
       "    <tr style=\"text-align: right;\">\n",
       "      <th></th>\n",
       "      <th>destination</th>\n",
       "      <th>passanger</th>\n",
       "      <th>weather</th>\n",
       "      <th>temperature</th>\n",
       "      <th>time</th>\n",
       "      <th>coupon</th>\n",
       "      <th>expiration</th>\n",
       "      <th>gender</th>\n",
       "      <th>age</th>\n",
       "      <th>maritalStatus</th>\n",
       "      <th>...</th>\n",
       "      <th>CoffeeHouse</th>\n",
       "      <th>CarryAway</th>\n",
       "      <th>RestaurantLessThan20</th>\n",
       "      <th>Restaurant20To50</th>\n",
       "      <th>toCoupon_GEQ5min</th>\n",
       "      <th>toCoupon_GEQ15min</th>\n",
       "      <th>toCoupon_GEQ25min</th>\n",
       "      <th>direction_same</th>\n",
       "      <th>direction_opp</th>\n",
       "      <th>Y</th>\n",
       "    </tr>\n",
       "  </thead>\n",
       "  <tbody>\n",
       "    <tr>\n",
       "      <th>0</th>\n",
       "      <td>No Urgent Place</td>\n",
       "      <td>Alone</td>\n",
       "      <td>Sunny</td>\n",
       "      <td>55</td>\n",
       "      <td>2PM</td>\n",
       "      <td>Restaurant(&lt;20)</td>\n",
       "      <td>1d</td>\n",
       "      <td>Female</td>\n",
       "      <td>21</td>\n",
       "      <td>Unmarried partner</td>\n",
       "      <td>...</td>\n",
       "      <td>never</td>\n",
       "      <td>NaN</td>\n",
       "      <td>4~8</td>\n",
       "      <td>1~3</td>\n",
       "      <td>1</td>\n",
       "      <td>0</td>\n",
       "      <td>0</td>\n",
       "      <td>0</td>\n",
       "      <td>1</td>\n",
       "      <td>1</td>\n",
       "    </tr>\n",
       "    <tr>\n",
       "      <th>1</th>\n",
       "      <td>No Urgent Place</td>\n",
       "      <td>Friend(s)</td>\n",
       "      <td>Sunny</td>\n",
       "      <td>80</td>\n",
       "      <td>10AM</td>\n",
       "      <td>Coffee House</td>\n",
       "      <td>2h</td>\n",
       "      <td>Female</td>\n",
       "      <td>21</td>\n",
       "      <td>Unmarried partner</td>\n",
       "      <td>...</td>\n",
       "      <td>never</td>\n",
       "      <td>NaN</td>\n",
       "      <td>4~8</td>\n",
       "      <td>1~3</td>\n",
       "      <td>1</td>\n",
       "      <td>0</td>\n",
       "      <td>0</td>\n",
       "      <td>0</td>\n",
       "      <td>1</td>\n",
       "      <td>0</td>\n",
       "    </tr>\n",
       "    <tr>\n",
       "      <th>2</th>\n",
       "      <td>No Urgent Place</td>\n",
       "      <td>Friend(s)</td>\n",
       "      <td>Sunny</td>\n",
       "      <td>80</td>\n",
       "      <td>10AM</td>\n",
       "      <td>Carry out &amp; Take away</td>\n",
       "      <td>2h</td>\n",
       "      <td>Female</td>\n",
       "      <td>21</td>\n",
       "      <td>Unmarried partner</td>\n",
       "      <td>...</td>\n",
       "      <td>never</td>\n",
       "      <td>NaN</td>\n",
       "      <td>4~8</td>\n",
       "      <td>1~3</td>\n",
       "      <td>1</td>\n",
       "      <td>1</td>\n",
       "      <td>0</td>\n",
       "      <td>0</td>\n",
       "      <td>1</td>\n",
       "      <td>1</td>\n",
       "    </tr>\n",
       "    <tr>\n",
       "      <th>3</th>\n",
       "      <td>No Urgent Place</td>\n",
       "      <td>Friend(s)</td>\n",
       "      <td>Sunny</td>\n",
       "      <td>80</td>\n",
       "      <td>2PM</td>\n",
       "      <td>Coffee House</td>\n",
       "      <td>2h</td>\n",
       "      <td>Female</td>\n",
       "      <td>21</td>\n",
       "      <td>Unmarried partner</td>\n",
       "      <td>...</td>\n",
       "      <td>never</td>\n",
       "      <td>NaN</td>\n",
       "      <td>4~8</td>\n",
       "      <td>1~3</td>\n",
       "      <td>1</td>\n",
       "      <td>1</td>\n",
       "      <td>0</td>\n",
       "      <td>0</td>\n",
       "      <td>1</td>\n",
       "      <td>0</td>\n",
       "    </tr>\n",
       "    <tr>\n",
       "      <th>4</th>\n",
       "      <td>No Urgent Place</td>\n",
       "      <td>Friend(s)</td>\n",
       "      <td>Sunny</td>\n",
       "      <td>80</td>\n",
       "      <td>2PM</td>\n",
       "      <td>Coffee House</td>\n",
       "      <td>1d</td>\n",
       "      <td>Female</td>\n",
       "      <td>21</td>\n",
       "      <td>Unmarried partner</td>\n",
       "      <td>...</td>\n",
       "      <td>never</td>\n",
       "      <td>NaN</td>\n",
       "      <td>4~8</td>\n",
       "      <td>1~3</td>\n",
       "      <td>1</td>\n",
       "      <td>1</td>\n",
       "      <td>0</td>\n",
       "      <td>0</td>\n",
       "      <td>1</td>\n",
       "      <td>0</td>\n",
       "    </tr>\n",
       "  </tbody>\n",
       "</table>\n",
       "<p>5 rows × 26 columns</p>\n",
       "</div>"
      ],
      "text/plain": [
       "       destination  passanger weather  temperature  time  \\\n",
       "0  No Urgent Place      Alone   Sunny           55   2PM   \n",
       "1  No Urgent Place  Friend(s)   Sunny           80  10AM   \n",
       "2  No Urgent Place  Friend(s)   Sunny           80  10AM   \n",
       "3  No Urgent Place  Friend(s)   Sunny           80   2PM   \n",
       "4  No Urgent Place  Friend(s)   Sunny           80   2PM   \n",
       "\n",
       "                  coupon expiration  gender age      maritalStatus  ...  \\\n",
       "0        Restaurant(<20)         1d  Female  21  Unmarried partner  ...   \n",
       "1           Coffee House         2h  Female  21  Unmarried partner  ...   \n",
       "2  Carry out & Take away         2h  Female  21  Unmarried partner  ...   \n",
       "3           Coffee House         2h  Female  21  Unmarried partner  ...   \n",
       "4           Coffee House         1d  Female  21  Unmarried partner  ...   \n",
       "\n",
       "   CoffeeHouse CarryAway RestaurantLessThan20 Restaurant20To50  \\\n",
       "0        never       NaN                  4~8              1~3   \n",
       "1        never       NaN                  4~8              1~3   \n",
       "2        never       NaN                  4~8              1~3   \n",
       "3        never       NaN                  4~8              1~3   \n",
       "4        never       NaN                  4~8              1~3   \n",
       "\n",
       "  toCoupon_GEQ5min toCoupon_GEQ15min toCoupon_GEQ25min direction_same  \\\n",
       "0                1                 0                 0              0   \n",
       "1                1                 0                 0              0   \n",
       "2                1                 1                 0              0   \n",
       "3                1                 1                 0              0   \n",
       "4                1                 1                 0              0   \n",
       "\n",
       "  direction_opp  Y  \n",
       "0             1  1  \n",
       "1             1  0  \n",
       "2             1  1  \n",
       "3             1  0  \n",
       "4             1  0  \n",
       "\n",
       "[5 rows x 26 columns]"
      ]
     },
     "execution_count": 3,
     "metadata": {},
     "output_type": "execute_result"
    }
   ],
   "source": [
    "data.head()"
   ]
  },
  {
   "cell_type": "code",
   "execution_count": 5,
   "metadata": {},
   "outputs": [
    {
     "name": "stdout",
     "output_type": "stream",
     "text": [
      "<class 'pandas.core.frame.DataFrame'>\n",
      "RangeIndex: 12684 entries, 0 to 12683\n",
      "Data columns (total 26 columns):\n",
      " #   Column                Non-Null Count  Dtype \n",
      "---  ------                --------------  ----- \n",
      " 0   destination           12684 non-null  object\n",
      " 1   passanger             12684 non-null  object\n",
      " 2   weather               12684 non-null  object\n",
      " 3   temperature           12684 non-null  int64 \n",
      " 4   time                  12684 non-null  object\n",
      " 5   coupon                12684 non-null  object\n",
      " 6   expiration            12684 non-null  object\n",
      " 7   gender                12684 non-null  object\n",
      " 8   age                   12684 non-null  object\n",
      " 9   maritalStatus         12684 non-null  object\n",
      " 10  has_children          12684 non-null  int64 \n",
      " 11  education             12684 non-null  object\n",
      " 12  occupation            12684 non-null  object\n",
      " 13  income                12684 non-null  object\n",
      " 14  car                   108 non-null    object\n",
      " 15  Bar                   12577 non-null  object\n",
      " 16  CoffeeHouse           12467 non-null  object\n",
      " 17  CarryAway             12533 non-null  object\n",
      " 18  RestaurantLessThan20  12554 non-null  object\n",
      " 19  Restaurant20To50      12495 non-null  object\n",
      " 20  toCoupon_GEQ5min      12684 non-null  int64 \n",
      " 21  toCoupon_GEQ15min     12684 non-null  int64 \n",
      " 22  toCoupon_GEQ25min     12684 non-null  int64 \n",
      " 23  direction_same        12684 non-null  int64 \n",
      " 24  direction_opp         12684 non-null  int64 \n",
      " 25  Y                     12684 non-null  int64 \n",
      "dtypes: int64(8), object(18)\n",
      "memory usage: 2.5+ MB\n"
     ]
    }
   ],
   "source": [
    "data.info()"
   ]
  },
  {
   "cell_type": "markdown",
   "metadata": {},
   "source": [
    "2. Investigate the dataset for missing or problematic data."
   ]
  },
  {
   "cell_type": "code",
   "execution_count": 6,
   "metadata": {},
   "outputs": [
    {
     "name": "stdout",
     "output_type": "stream",
     "text": [
      "Missing Value in each column:\n",
      " destination                 0\n",
      "passanger                   0\n",
      "weather                     0\n",
      "temperature                 0\n",
      "time                        0\n",
      "coupon                      0\n",
      "expiration                  0\n",
      "gender                      0\n",
      "age                         0\n",
      "maritalStatus               0\n",
      "has_children                0\n",
      "education                   0\n",
      "occupation                  0\n",
      "income                      0\n",
      "car                     12576\n",
      "Bar                       107\n",
      "CoffeeHouse               217\n",
      "CarryAway                 151\n",
      "RestaurantLessThan20      130\n",
      "Restaurant20To50          189\n",
      "toCoupon_GEQ5min            0\n",
      "toCoupon_GEQ15min           0\n",
      "toCoupon_GEQ25min           0\n",
      "direction_same              0\n",
      "direction_opp               0\n",
      "Y                           0\n",
      "dtype: int64\n"
     ]
    }
   ],
   "source": [
    "missing_value = data.isnull().sum()\n",
    "print('Missing Value in each column:\\n', missing_value)"
   ]
  },
  {
   "cell_type": "code",
   "execution_count": 7,
   "metadata": {},
   "outputs": [
    {
     "data": {
      "text/plain": [
       "{'destination': 0.0,\n",
       " 'passanger': 0.0,\n",
       " 'weather': 0.0,\n",
       " 'temperature': 0.0,\n",
       " 'time': 0.0,\n",
       " 'coupon': 0.0,\n",
       " 'expiration': 0.0,\n",
       " 'gender': 0.0,\n",
       " 'age': 0.0,\n",
       " 'maritalStatus': 0.0,\n",
       " 'has_children': 0.0,\n",
       " 'education': 0.0,\n",
       " 'occupation': 0.0,\n",
       " 'income': 0.0,\n",
       " 'car': 0.9914853358561968,\n",
       " 'Bar': 0.008435824660990224,\n",
       " 'CoffeeHouse': 0.017108167770419427,\n",
       " 'CarryAway': 0.011904761904761904,\n",
       " 'RestaurantLessThan20': 0.010249132765689057,\n",
       " 'Restaurant20To50': 0.014900662251655629,\n",
       " 'toCoupon_GEQ5min': 0.0,\n",
       " 'toCoupon_GEQ15min': 0.0,\n",
       " 'toCoupon_GEQ25min': 0.0,\n",
       " 'direction_same': 0.0,\n",
       " 'direction_opp': 0.0,\n",
       " 'Y': 0.0}"
      ]
     },
     "execution_count": 7,
     "metadata": {},
     "output_type": "execute_result"
    }
   ],
   "source": [
    "percentage_missing_value = {column: value / len(data) for column, value in missing_value.items()}\n",
    "percentage_missing_value"
   ]
  },
  {
   "cell_type": "markdown",
   "metadata": {},
   "source": [
    "We can see 99.14% of the values in the 'car' column are missing, indicating a flaw in the data collection process. As a result, I will remove this column. For the remaining columns, which have less than 2% of their values missing, the proportion of missing data is relatively low. Therefore, I will impute the missing values using the most frequent category, i.e., the mode."
   ]
  },
  {
   "cell_type": "code",
   "execution_count": 38,
   "metadata": {},
   "outputs": [
    {
     "data": {
      "text/plain": [
       "age\n",
       "21         2653\n",
       "26         2559\n",
       "31         2039\n",
       "50plus     1788\n",
       "36         1319\n",
       "41         1093\n",
       "46          686\n",
       "below21     547\n",
       "Name: count, dtype: int64"
      ]
     },
     "execution_count": 38,
     "metadata": {},
     "output_type": "execute_result"
    }
   ],
   "source": [
    "data['age'].value_counts()"
   ]
  },
  {
   "cell_type": "code",
   "execution_count": 39,
   "metadata": {},
   "outputs": [],
   "source": [
    "data[\"age\"]=data[\"age\"].str.replace(\"50plus\",\"51\")\n",
    "data[\"age\"]=data[\"age\"].str.replace(\"below21\",\"20\")"
   ]
  },
  {
   "cell_type": "code",
   "execution_count": 40,
   "metadata": {},
   "outputs": [],
   "source": [
    "data[\"age\"]=pd.to_numeric(data[\"age\"])"
   ]
  },
  {
   "cell_type": "markdown",
   "metadata": {},
   "source": [
    "3. Decide what to do about your missing data -- drop, replace, other..."
   ]
  },
  {
   "cell_type": "code",
   "execution_count": 8,
   "metadata": {},
   "outputs": [],
   "source": [
    "# drop car column\n",
    "data = data.drop('car', axis=1)"
   ]
  },
  {
   "cell_type": "code",
   "execution_count": 9,
   "metadata": {},
   "outputs": [],
   "source": [
    "# update missing value and map ou the name of the missing column (not including car variable anymore)\n",
    "missing_value = data.isnull().sum()\n",
    "missing_col = [column for column, value in missing_value.items() if value > 0]\n",
    "\n",
    "# loop through each column individually and find common value of each column then impute each column individually.\n",
    "\n",
    "for column in missing_col:\n",
    "    mode_value = data[column].mode()[0]\n",
    "    data[column].fillna(mode_value, inplace=True)"
   ]
  },
  {
   "cell_type": "code",
   "execution_count": 10,
   "metadata": {},
   "outputs": [
    {
     "data": {
      "text/plain": [
       "destination             0\n",
       "passanger               0\n",
       "weather                 0\n",
       "temperature             0\n",
       "time                    0\n",
       "coupon                  0\n",
       "expiration              0\n",
       "gender                  0\n",
       "age                     0\n",
       "maritalStatus           0\n",
       "has_children            0\n",
       "education               0\n",
       "occupation              0\n",
       "income                  0\n",
       "Bar                     0\n",
       "CoffeeHouse             0\n",
       "CarryAway               0\n",
       "RestaurantLessThan20    0\n",
       "Restaurant20To50        0\n",
       "toCoupon_GEQ5min        0\n",
       "toCoupon_GEQ15min       0\n",
       "toCoupon_GEQ25min       0\n",
       "direction_same          0\n",
       "direction_opp           0\n",
       "Y                       0\n",
       "dtype: int64"
      ]
     },
     "execution_count": 10,
     "metadata": {},
     "output_type": "execute_result"
    }
   ],
   "source": [
    "# check missing value again\n",
    "data.isnull().sum()"
   ]
  },
  {
   "cell_type": "markdown",
   "metadata": {},
   "source": [
    "Looks good, we have handled all the null values."
   ]
  },
  {
   "cell_type": "markdown",
   "metadata": {},
   "source": [
    "4. What proportion of the total observations chose to accept the coupon? \n",
    "\n"
   ]
  },
  {
   "cell_type": "code",
   "execution_count": 12,
   "metadata": {},
   "outputs": [
    {
     "data": {
      "text/plain": [
       "56.84326710816777"
      ]
     },
     "execution_count": 12,
     "metadata": {},
     "output_type": "execute_result"
    }
   ],
   "source": [
    "accpt_coupons_prop = data.query('Y== 1')['Y'].count() / data['Y'].count() * 100\n",
    "accpt_coupons_prop "
   ]
  },
  {
   "cell_type": "markdown",
   "metadata": {},
   "source": [
    "Around 56.8% of total customers accepted coupons. "
   ]
  },
  {
   "cell_type": "markdown",
   "metadata": {},
   "source": [
    "5. Use a bar plot to visualize the `coupon` column."
   ]
  },
  {
   "cell_type": "code",
   "execution_count": 16,
   "metadata": {},
   "outputs": [
    {
     "data": {
      "text/plain": [
       "Text(0, 0.5, 'Counts')"
      ]
     },
     "execution_count": 16,
     "metadata": {},
     "output_type": "execute_result"
    },
    {
     "data": {
      "image/png": "[encoded data removed]",
      "text/plain": [
       "<Figure size 432x288 with 1 Axes>"
      ]
     },
     "metadata": {
      "needs_background": "light"
     },
     "output_type": "display_data"
    }
   ],
   "source": [
    "sns.barplot(data = data['coupon'].value_counts().reset_index(), x = 'coupon', y = 'count')\n",
    "plt.title('Coupon by Type Counts')\n",
    "plt.xticks(rotation=45)\n",
    "plt.ylabel('Counts')"
   ]
  },
  {
   "cell_type": "markdown",
   "metadata": {},
   "source": [
    "Looks the coffee house and restaurant with cheap meals are most popular with highest acceptance. "
   ]
  },
  {
   "cell_type": "markdown",
   "metadata": {},
   "source": [
    "6. Use a histogram to visualize the temperature column."
   ]
  },
  {
   "cell_type": "code",
   "execution_count": 18,
   "metadata": {},
   "outputs": [
    {
     "data": {
      "text/plain": [
       "Text(0.5, 6.79999999999999, 'Temperature in °F')"
      ]
     },
     "execution_count": 18,
     "metadata": {},
     "output_type": "execute_result"
    },
    {
     "data": {
      "image/png": "[encoded data removed]",
      "text/plain": [
       "<Figure size 360x360 with 1 Axes>"
      ]
     },
     "metadata": {
      "needs_background": "light"
     },
     "output_type": "display_data"
    }
   ],
   "source": [
    "sns.displot(data = data, x = 'temperature', rug=True, color='Green')\n",
    "plt.grid()\n",
    "plt.title('Coupon Type Counts')\n",
    "plt.xticks(rotation=45)\n",
    "plt.ylabel('Counts')\n",
    "plt.xlabel('Temperature in °F')"
   ]
  },
  {
   "cell_type": "markdown",
   "metadata": {},
   "source": [
    "Most of the coupons were delivered in ambient temperatures between 55 and 80 °F."
   ]
  },
  {
   "cell_type": "markdown",
   "metadata": {},
   "source": [
    "**Investigating the Bar Coupons**\n",
    "\n",
    "Now, we will lead you through an exploration of just the bar related coupons.  \n",
    "\n",
    "1. Create a new `DataFrame` that contains just the bar coupons.\n"
   ]
  },
  {
   "cell_type": "code",
   "execution_count": 19,
   "metadata": {},
   "outputs": [
    {
     "data": {
      "text/html": [
       "<div>\n",
       "<style scoped>\n",
       "    .dataframe tbody tr th:only-of-type {\n",
       "        vertical-align: middle;\n",
       "    }\n",
       "\n",
       "    .dataframe tbody tr th {\n",
       "        vertical-align: top;\n",
       "    }\n",
       "\n",
       "    .dataframe thead th {\n",
       "        text-align: right;\n",
       "    }\n",
       "</style>\n",
       "<table border=\"1\" class=\"dataframe\">\n",
       "  <thead>\n",
       "    <tr style=\"text-align: right;\">\n",
       "      <th></th>\n",
       "      <th>destination</th>\n",
       "      <th>passanger</th>\n",
       "      <th>weather</th>\n",
       "      <th>temperature</th>\n",
       "      <th>time</th>\n",
       "      <th>coupon</th>\n",
       "      <th>expiration</th>\n",
       "      <th>gender</th>\n",
       "      <th>age</th>\n",
       "      <th>maritalStatus</th>\n",
       "      <th>...</th>\n",
       "      <th>CoffeeHouse</th>\n",
       "      <th>CarryAway</th>\n",
       "      <th>RestaurantLessThan20</th>\n",
       "      <th>Restaurant20To50</th>\n",
       "      <th>toCoupon_GEQ5min</th>\n",
       "      <th>toCoupon_GEQ15min</th>\n",
       "      <th>toCoupon_GEQ25min</th>\n",
       "      <th>direction_same</th>\n",
       "      <th>direction_opp</th>\n",
       "      <th>Y</th>\n",
       "    </tr>\n",
       "  </thead>\n",
       "  <tbody>\n",
       "    <tr>\n",
       "      <th>9</th>\n",
       "      <td>No Urgent Place</td>\n",
       "      <td>Kid(s)</td>\n",
       "      <td>Sunny</td>\n",
       "      <td>80</td>\n",
       "      <td>10AM</td>\n",
       "      <td>Bar</td>\n",
       "      <td>1d</td>\n",
       "      <td>Female</td>\n",
       "      <td>21</td>\n",
       "      <td>Unmarried partner</td>\n",
       "      <td>...</td>\n",
       "      <td>never</td>\n",
       "      <td>1~3</td>\n",
       "      <td>4~8</td>\n",
       "      <td>1~3</td>\n",
       "      <td>1</td>\n",
       "      <td>1</td>\n",
       "      <td>0</td>\n",
       "      <td>0</td>\n",
       "      <td>1</td>\n",
       "      <td>0</td>\n",
       "    </tr>\n",
       "    <tr>\n",
       "      <th>13</th>\n",
       "      <td>Home</td>\n",
       "      <td>Alone</td>\n",
       "      <td>Sunny</td>\n",
       "      <td>55</td>\n",
       "      <td>6PM</td>\n",
       "      <td>Bar</td>\n",
       "      <td>1d</td>\n",
       "      <td>Female</td>\n",
       "      <td>21</td>\n",
       "      <td>Unmarried partner</td>\n",
       "      <td>...</td>\n",
       "      <td>never</td>\n",
       "      <td>1~3</td>\n",
       "      <td>4~8</td>\n",
       "      <td>1~3</td>\n",
       "      <td>1</td>\n",
       "      <td>0</td>\n",
       "      <td>0</td>\n",
       "      <td>1</td>\n",
       "      <td>0</td>\n",
       "      <td>1</td>\n",
       "    </tr>\n",
       "    <tr>\n",
       "      <th>17</th>\n",
       "      <td>Work</td>\n",
       "      <td>Alone</td>\n",
       "      <td>Sunny</td>\n",
       "      <td>55</td>\n",
       "      <td>7AM</td>\n",
       "      <td>Bar</td>\n",
       "      <td>1d</td>\n",
       "      <td>Female</td>\n",
       "      <td>21</td>\n",
       "      <td>Unmarried partner</td>\n",
       "      <td>...</td>\n",
       "      <td>never</td>\n",
       "      <td>1~3</td>\n",
       "      <td>4~8</td>\n",
       "      <td>1~3</td>\n",
       "      <td>1</td>\n",
       "      <td>1</td>\n",
       "      <td>1</td>\n",
       "      <td>0</td>\n",
       "      <td>1</td>\n",
       "      <td>0</td>\n",
       "    </tr>\n",
       "    <tr>\n",
       "      <th>24</th>\n",
       "      <td>No Urgent Place</td>\n",
       "      <td>Friend(s)</td>\n",
       "      <td>Sunny</td>\n",
       "      <td>80</td>\n",
       "      <td>10AM</td>\n",
       "      <td>Bar</td>\n",
       "      <td>1d</td>\n",
       "      <td>Male</td>\n",
       "      <td>21</td>\n",
       "      <td>Single</td>\n",
       "      <td>...</td>\n",
       "      <td>less1</td>\n",
       "      <td>4~8</td>\n",
       "      <td>4~8</td>\n",
       "      <td>less1</td>\n",
       "      <td>1</td>\n",
       "      <td>0</td>\n",
       "      <td>0</td>\n",
       "      <td>0</td>\n",
       "      <td>1</td>\n",
       "      <td>1</td>\n",
       "    </tr>\n",
       "    <tr>\n",
       "      <th>35</th>\n",
       "      <td>Home</td>\n",
       "      <td>Alone</td>\n",
       "      <td>Sunny</td>\n",
       "      <td>55</td>\n",
       "      <td>6PM</td>\n",
       "      <td>Bar</td>\n",
       "      <td>1d</td>\n",
       "      <td>Male</td>\n",
       "      <td>21</td>\n",
       "      <td>Single</td>\n",
       "      <td>...</td>\n",
       "      <td>less1</td>\n",
       "      <td>4~8</td>\n",
       "      <td>4~8</td>\n",
       "      <td>less1</td>\n",
       "      <td>1</td>\n",
       "      <td>0</td>\n",
       "      <td>0</td>\n",
       "      <td>1</td>\n",
       "      <td>0</td>\n",
       "      <td>1</td>\n",
       "    </tr>\n",
       "    <tr>\n",
       "      <th>...</th>\n",
       "      <td>...</td>\n",
       "      <td>...</td>\n",
       "      <td>...</td>\n",
       "      <td>...</td>\n",
       "      <td>...</td>\n",
       "      <td>...</td>\n",
       "      <td>...</td>\n",
       "      <td>...</td>\n",
       "      <td>...</td>\n",
       "      <td>...</td>\n",
       "      <td>...</td>\n",
       "      <td>...</td>\n",
       "      <td>...</td>\n",
       "      <td>...</td>\n",
       "      <td>...</td>\n",
       "      <td>...</td>\n",
       "      <td>...</td>\n",
       "      <td>...</td>\n",
       "      <td>...</td>\n",
       "      <td>...</td>\n",
       "      <td>...</td>\n",
       "    </tr>\n",
       "    <tr>\n",
       "      <th>12663</th>\n",
       "      <td>No Urgent Place</td>\n",
       "      <td>Friend(s)</td>\n",
       "      <td>Sunny</td>\n",
       "      <td>80</td>\n",
       "      <td>10PM</td>\n",
       "      <td>Bar</td>\n",
       "      <td>1d</td>\n",
       "      <td>Male</td>\n",
       "      <td>26</td>\n",
       "      <td>Single</td>\n",
       "      <td>...</td>\n",
       "      <td>never</td>\n",
       "      <td>1~3</td>\n",
       "      <td>4~8</td>\n",
       "      <td>1~3</td>\n",
       "      <td>1</td>\n",
       "      <td>1</td>\n",
       "      <td>0</td>\n",
       "      <td>0</td>\n",
       "      <td>1</td>\n",
       "      <td>0</td>\n",
       "    </tr>\n",
       "    <tr>\n",
       "      <th>12664</th>\n",
       "      <td>No Urgent Place</td>\n",
       "      <td>Friend(s)</td>\n",
       "      <td>Sunny</td>\n",
       "      <td>55</td>\n",
       "      <td>10PM</td>\n",
       "      <td>Bar</td>\n",
       "      <td>2h</td>\n",
       "      <td>Male</td>\n",
       "      <td>26</td>\n",
       "      <td>Single</td>\n",
       "      <td>...</td>\n",
       "      <td>never</td>\n",
       "      <td>1~3</td>\n",
       "      <td>4~8</td>\n",
       "      <td>1~3</td>\n",
       "      <td>1</td>\n",
       "      <td>1</td>\n",
       "      <td>0</td>\n",
       "      <td>0</td>\n",
       "      <td>1</td>\n",
       "      <td>0</td>\n",
       "    </tr>\n",
       "    <tr>\n",
       "      <th>12667</th>\n",
       "      <td>No Urgent Place</td>\n",
       "      <td>Alone</td>\n",
       "      <td>Rainy</td>\n",
       "      <td>55</td>\n",
       "      <td>10AM</td>\n",
       "      <td>Bar</td>\n",
       "      <td>1d</td>\n",
       "      <td>Male</td>\n",
       "      <td>26</td>\n",
       "      <td>Single</td>\n",
       "      <td>...</td>\n",
       "      <td>never</td>\n",
       "      <td>1~3</td>\n",
       "      <td>4~8</td>\n",
       "      <td>1~3</td>\n",
       "      <td>1</td>\n",
       "      <td>1</td>\n",
       "      <td>0</td>\n",
       "      <td>0</td>\n",
       "      <td>1</td>\n",
       "      <td>0</td>\n",
       "    </tr>\n",
       "    <tr>\n",
       "      <th>12670</th>\n",
       "      <td>No Urgent Place</td>\n",
       "      <td>Partner</td>\n",
       "      <td>Rainy</td>\n",
       "      <td>55</td>\n",
       "      <td>6PM</td>\n",
       "      <td>Bar</td>\n",
       "      <td>2h</td>\n",
       "      <td>Male</td>\n",
       "      <td>26</td>\n",
       "      <td>Single</td>\n",
       "      <td>...</td>\n",
       "      <td>never</td>\n",
       "      <td>1~3</td>\n",
       "      <td>4~8</td>\n",
       "      <td>1~3</td>\n",
       "      <td>1</td>\n",
       "      <td>1</td>\n",
       "      <td>0</td>\n",
       "      <td>0</td>\n",
       "      <td>1</td>\n",
       "      <td>0</td>\n",
       "    </tr>\n",
       "    <tr>\n",
       "      <th>12682</th>\n",
       "      <td>Work</td>\n",
       "      <td>Alone</td>\n",
       "      <td>Snowy</td>\n",
       "      <td>30</td>\n",
       "      <td>7AM</td>\n",
       "      <td>Bar</td>\n",
       "      <td>1d</td>\n",
       "      <td>Male</td>\n",
       "      <td>26</td>\n",
       "      <td>Single</td>\n",
       "      <td>...</td>\n",
       "      <td>never</td>\n",
       "      <td>1~3</td>\n",
       "      <td>4~8</td>\n",
       "      <td>1~3</td>\n",
       "      <td>1</td>\n",
       "      <td>1</td>\n",
       "      <td>1</td>\n",
       "      <td>0</td>\n",
       "      <td>1</td>\n",
       "      <td>0</td>\n",
       "    </tr>\n",
       "  </tbody>\n",
       "</table>\n",
       "<p>2017 rows × 25 columns</p>\n",
       "</div>"
      ],
      "text/plain": [
       "           destination  passanger weather  temperature  time coupon  \\\n",
       "9      No Urgent Place     Kid(s)   Sunny           80  10AM    Bar   \n",
       "13                Home      Alone   Sunny           55   6PM    Bar   \n",
       "17                Work      Alone   Sunny           55   7AM    Bar   \n",
       "24     No Urgent Place  Friend(s)   Sunny           80  10AM    Bar   \n",
       "35                Home      Alone   Sunny           55   6PM    Bar   \n",
       "...                ...        ...     ...          ...   ...    ...   \n",
       "12663  No Urgent Place  Friend(s)   Sunny           80  10PM    Bar   \n",
       "12664  No Urgent Place  Friend(s)   Sunny           55  10PM    Bar   \n",
       "12667  No Urgent Place      Alone   Rainy           55  10AM    Bar   \n",
       "12670  No Urgent Place    Partner   Rainy           55   6PM    Bar   \n",
       "12682             Work      Alone   Snowy           30   7AM    Bar   \n",
       "\n",
       "      expiration  gender age      maritalStatus  ...  CoffeeHouse CarryAway  \\\n",
       "9             1d  Female  21  Unmarried partner  ...        never       1~3   \n",
       "13            1d  Female  21  Unmarried partner  ...        never       1~3   \n",
       "17            1d  Female  21  Unmarried partner  ...        never       1~3   \n",
       "24            1d    Male  21             Single  ...        less1       4~8   \n",
       "35            1d    Male  21             Single  ...        less1       4~8   \n",
       "...          ...     ...  ..                ...  ...          ...       ...   \n",
       "12663         1d    Male  26             Single  ...        never       1~3   \n",
       "12664         2h    Male  26             Single  ...        never       1~3   \n",
       "12667         1d    Male  26             Single  ...        never       1~3   \n",
       "12670         2h    Male  26             Single  ...        never       1~3   \n",
       "12682         1d    Male  26             Single  ...        never       1~3   \n",
       "\n",
       "      RestaurantLessThan20 Restaurant20To50 toCoupon_GEQ5min  \\\n",
       "9                      4~8              1~3                1   \n",
       "13                     4~8              1~3                1   \n",
       "17                     4~8              1~3                1   \n",
       "24                     4~8            less1                1   \n",
       "35                     4~8            less1                1   \n",
       "...                    ...              ...              ...   \n",
       "12663                  4~8              1~3                1   \n",
       "12664                  4~8              1~3                1   \n",
       "12667                  4~8              1~3                1   \n",
       "12670                  4~8              1~3                1   \n",
       "12682                  4~8              1~3                1   \n",
       "\n",
       "      toCoupon_GEQ15min toCoupon_GEQ25min direction_same direction_opp  Y  \n",
       "9                     1                 0              0             1  0  \n",
       "13                    0                 0              1             0  1  \n",
       "17                    1                 1              0             1  0  \n",
       "24                    0                 0              0             1  1  \n",
       "35                    0                 0              1             0  1  \n",
       "...                 ...               ...            ...           ... ..  \n",
       "12663                 1                 0              0             1  0  \n",
       "12664                 1                 0              0             1  0  \n",
       "12667                 1                 0              0             1  0  \n",
       "12670                 1                 0              0             1  0  \n",
       "12682                 1                 1              0             1  0  \n",
       "\n",
       "[2017 rows x 25 columns]"
      ]
     },
     "execution_count": 19,
     "metadata": {},
     "output_type": "execute_result"
    }
   ],
   "source": [
    "bar_coupons_data = data.query('coupon == \"Bar\"')\n",
    "bar_coupons_data"
   ]
  },
  {
   "cell_type": "markdown",
   "metadata": {},
   "source": [
    "We have 2017 records. "
   ]
  },
  {
   "cell_type": "markdown",
   "metadata": {},
   "source": [
    "2. What proportion of bar coupons were accepted?\n"
   ]
  },
  {
   "cell_type": "code",
   "execution_count": 22,
   "metadata": {},
   "outputs": [
    {
     "data": {
      "text/plain": [
       "41.00148735746158"
      ]
     },
     "execution_count": 22,
     "metadata": {},
     "output_type": "execute_result"
    }
   ],
   "source": [
    "accpt_bar_coupons_prop = bar_coupons_data.query('Y == 1')['Y'].dropna().count() / bar_coupons_data['Y'].dropna().count() * 100\n",
    "accpt_bar_coupons_prop"
   ]
  },
  {
   "cell_type": "markdown",
   "metadata": {},
   "source": [
    "Around 41% coupons are accepted. "
   ]
  },
  {
   "cell_type": "markdown",
   "metadata": {},
   "source": [
    "3. Compare the acceptance rate between those who went to a bar 3 or fewer times a month to those who went more.\n"
   ]
  },
  {
   "cell_type": "markdown",
   "metadata": {},
   "source": [
    "Those who went to a bar 3 or fewer times a month"
   ]
  },
  {
   "cell_type": "code",
   "execution_count": 31,
   "metadata": {},
   "outputs": [
    {
     "data": {
      "text/plain": [
       "0.49850204982655316"
      ]
     },
     "execution_count": 31,
     "metadata": {},
     "output_type": "execute_result"
    }
   ],
   "source": [
    "bar_0_to_3_list = ['never', 'less1', '1~3'] \n",
    "filtered_count = data.query('Bar in @bar_0_to_3_list & Y == 1')['Bar'].count()\n",
    "total_count = data['Bar'].count()\n",
    "proportion = filtered_count / total_count\n",
    "proportion"
   ]
  },
  {
   "cell_type": "code",
   "execution_count": 33,
   "metadata": {},
   "outputs": [
    {
     "data": {
      "text/plain": [
       "0.06993062125512457"
      ]
     },
     "execution_count": 33,
     "metadata": {},
     "output_type": "execute_result"
    }
   ],
   "source": [
    "filtered_count = data.query(\"Bar not in @bar_0_to_3_list & Y == 1\")[\"Bar\"].count()\n",
    "total_count = data['Bar'].count()\n",
    "proportion = filtered_count / total_count\n",
    "proportion"
   ]
  },
  {
   "cell_type": "markdown",
   "metadata": {},
   "source": [
    "Those who go to bar less than 4 times are more prone to accept the coupons."
   ]
  },
  {
   "cell_type": "markdown",
   "metadata": {},
   "source": [
    "4. Compare the acceptance rate between drivers who go to a bar more than once a month and are over the age of 25 to the all others.  Is there a difference?\n"
   ]
  },
  {
   "cell_type": "code",
   "execution_count": 41,
   "metadata": {},
   "outputs": [
    {
     "data": {
      "text/plain": [
       "13.60769473352255"
      ]
     },
     "execution_count": 41,
     "metadata": {},
     "output_type": "execute_result"
    }
   ],
   "source": [
    "bar_1_to_max_list = ['1~3', '4~8', 'gt8'] \n",
    "(data.query('Bar in @bar_1_to_max_list & age > 25 & Y == 1' )['Bar'].count() / data['Bar'].count()) * 100"
   ]
  },
  {
   "cell_type": "code",
   "execution_count": 42,
   "metadata": {},
   "outputs": [
    {
     "data": {
      "text/plain": [
       "43.23557237464522"
      ]
     },
     "execution_count": 42,
     "metadata": {},
     "output_type": "execute_result"
    }
   ],
   "source": [
    "count_others = data.query('Y == 1' )['Bar'].count() \\\n",
    "    - data.query('Bar in @bar_1_to_max_list & age > 25 & Y == 1' )['Bar'].count()\n",
    "(count_others / data['Bar'].count()) * 100"
   ]
  },
  {
   "cell_type": "markdown",
   "metadata": {},
   "source": [
    "Only 13.72% of the total records represent individuals over 25 years old who accepted the coupon and visit a bar more than once a month. In contrast, 43.17% of the total records represent individuals who are either not over 25 years old or do not visit bars frequently, indicating that these people are more likely to accept the coupon."
   ]
  },
  {
   "cell_type": "markdown",
   "metadata": {},
   "source": [
    "5. Use the same process to compare the acceptance rate between drivers who go to bars more than once a month and had passengers that were not a kid and had occupations other than farming, fishing, or forestry. \n"
   ]
  },
  {
   "cell_type": "code",
   "execution_count": 43,
   "metadata": {},
   "outputs": [
    {
     "name": "stdout",
     "output_type": "stream",
     "text": [
      "The acceptance rate between drivers who go to bars more than once a month and had passengers that were not a kid and had occupations other than farming, fishing, or forestry: 62.3% compare to those who goes less than 1 or never: 55.1%\n"
     ]
    }
   ],
   "source": [
    "more_than_once = data[\n",
    "    data['Bar'].isin(['1~3', '4~8', 'gt8']) &\n",
    "    data['passanger'].isin(['Alone', 'Friend(s)', 'Partner']) &\n",
    "    ~data['occupation'].isin(['Farming', 'Fishing', 'Forestry'])\n",
    "]['Y'].mean(numeric_only=True)\n",
    "\n",
    "less_than_once = data[\n",
    "    data['Bar'].isin(['less1', 'never']) &\n",
    "    data['passanger'].isin(['Alone', 'Friend(s)', 'Partner']) &\n",
    "    ~data['occupation'].isin(['Farming', 'Fishing', 'Forestry'])\n",
    "]['Y'].mean(numeric_only=True)\n",
    "\n",
    "print(f'The acceptance rate between drivers who go to bars more than once a month and had passengers that were not a kid and had occupations other than farming, fishing, or forestry: {round(more_than_once, 3) * 100}% compare to those who goes less than 1 or never: {round(less_than_once, 3) * 100}%')"
   ]
  },
  {
   "cell_type": "markdown",
   "metadata": {},
   "source": [
    "6. Compare the acceptance rates between those drivers who:\n",
    "\n",
    "- go to bars more than once a month, had passengers that were not a kid, and were not widowed *OR*\n",
    "- go to bars more than once a month and are under the age of 30 *OR*\n",
    "- go to cheap restaurants more than 4 times a month and income is less than 50K. \n",
    "\n"
   ]
  },
  {
   "cell_type": "code",
   "execution_count": 44,
   "metadata": {},
   "outputs": [
    {
     "name": "stdout",
     "output_type": "stream",
     "text": [
      "The acceptance rate of drivers who go to bars more than once a month, had passengers that were not a kid, and were not widowed: 62.2% OR \n",
      " The acceptance rate of drivers who go to bars more than once a month and are under the age of 30: 62.2% OR \n",
      " The acceptance rate of drivers who go to cheap restaurants more than 4 times a month and income is less than 50K: 62.9%\n"
     ]
    }
   ],
   "source": [
    "driver_group1 = data[\n",
    "    (data['Bar'].isin(['1~3', '4~8', 'gt8']) & ~data['passanger'].isin(['Kids']) & ~data['maritalStatus'].isin([['Widowed']]))\n",
    "    ]['Y'].mean()\n",
    "driver_group2 = data[\n",
    "    (~data['Bar'].isin(['never', 'less1']) & ~data['age'].isin(['50plus', '46', '41', '36']))\n",
    "    ]['Y'].mean()\n",
    "driver_group3 = data[\n",
    "    (data['RestaurantLessThan20'].isin(['4~8', 'gt8']) & data['income'].isin(['$37500 - $49999']))\n",
    "    ]['Y'].mean()\n",
    "\n",
    "print(f\"The acceptance rate of drivers who go to bars more than once a month, had passengers that were not a kid, and were not widowed: {round(driver_group1, 3) * 100}% OR \\n \\\n",
    "The acceptance rate of drivers who go to bars more than once a month and are under the age of 30: {round(driver_group2, 3) * 100}% OR \\n \\\n",
    "The acceptance rate of drivers who go to cheap restaurants more than 4 times a month and income is less than 50K: {round(driver_group3, 3) * 100}%\")"
   ]
  },
  {
   "cell_type": "markdown",
   "metadata": {},
   "source": [
    "7.  Based on these observations, what do you hypothesize about drivers who accepted the bar coupons?"
   ]
  },
  {
   "cell_type": "markdown",
   "metadata": {},
   "source": [
    "#### Hypothesis: \n",
    "The coupon acceptance rate is influenced more by drivers' lifestyle than by demographic factors.\n",
    "\n",
    "1. Younger Drivers and Lower Income: Younger drivers and those with lower incomes show a slightly higher acceptance rate, most likely due to their interest in social outings.\n",
    "2. Drivers without Kids and Specific Occupations: Drivers without children and those in certain occupations also illustrate a higher rate of accepting coupons.\n",
    "\n",
    "**Conclusion**: The acceptance rate is not merely a matter of chance but is a nuanced derivative of drivers' social habits, economic status, and life circumstances. Those who already enjoy bar life are more inclined toward accepting coupons."
   ]
  },
  {
   "cell_type": "markdown",
   "metadata": {},
   "source": [
    "### Independent Investigation\n",
    "\n",
    "Using the bar coupon example as motivation, you are to explore one of the other coupon groups and try to determine the characteristics of passengers who accept the coupons.  "
   ]
  },
  {
   "cell_type": "markdown",
   "metadata": {},
   "source": [
    "***1. Let's observe the frequency of acceptance based on the frequency of dinning out between cheap and more fine dinning restaurant.***"
   ]
  },
  {
   "cell_type": "code",
   "execution_count": 46,
   "metadata": {},
   "outputs": [
    {
     "data": {
      "image/png": "[encoded data removed]",
      "text/plain": [
       "<Figure size 864x432 with 2 Axes>"
      ]
     },
     "metadata": {
      "needs_background": "light"
     },
     "output_type": "display_data"
    }
   ],
   "source": [
    "data['Accepted'] = data['Y'] == '1'\n",
    "acceptance_rate_less_than_20 = data.groupby('RestaurantLessThan20')['Accepted'].count().reset_index()\n",
    "\n",
    "# Visualization\n",
    "plt.figure(figsize=(12, 6))\n",
    "\n",
    "plt.subplot(1, 2, 1)\n",
    "sns.barplot(x='RestaurantLessThan20', y='Accepted', data=acceptance_rate_less_than_20)\n",
    "plt.title('Acceptance Rate for Restaurants < $20')\n",
    "plt.xlabel('Frequency of Dining Out')\n",
    "plt.ylabel('Acceptance Rate')\n",
    "\n",
    "acceptance_rate_20_to_50 = data.groupby('Restaurant20To50')['Accepted'].count().reset_index()\n",
    "\n",
    "plt.subplot(1, 2, 2)\n",
    "sns.barplot(x='Restaurant20To50', y='Accepted', data=acceptance_rate_20_to_50)\n",
    "plt.title('Acceptance Rate for Restaurants $20 to $50')\n",
    "plt.xlabel('Frequency of Dining Out')\n",
    "plt.ylabel('Acceptance Rate')\n",
    "\n",
    "# automatic function to layout the subplot for easier visibility\n",
    "plt.tight_layout()\n",
    "plt.show()"
   ]
  },
  {
   "cell_type": "markdown",
   "metadata": {},
   "source": [
    "For both inexpensive and expensive restaurants, we observe that drivers visit less frequently (13 times, 48 times, or less than once). This suggests that these drivers likely have lower incomes. This observation reinforces the hypothesis that individuals with lower incomes are more inclined to accept coupons to receive discounts and save money."
   ]
  },
  {
   "cell_type": "markdown",
   "metadata": {},
   "source": [
    "***2. Does the income is the key factor affect the acceptance rate?***"
   ]
  },
  {
   "cell_type": "code",
   "execution_count": 47,
   "metadata": {},
   "outputs": [
    {
     "data": {
      "image/png": "[encoded data removed]",
      "text/plain": [
       "<Figure size 1440x576 with 1 Axes>"
      ]
     },
     "metadata": {
      "needs_background": "light"
     },
     "output_type": "display_data"
    }
   ],
   "source": [
    "# choose a big figure for visibility\n",
    "plt.figure(figsize=(20, 8))\n",
    "\n",
    "sns.countplot(x='income', hue='Y', data=data)\n",
    "\n",
    "plt.title('Coupon Acceptance for Different Income Brackets')\n",
    "plt.xlabel('Income')\n",
    "plt.ylabel('Count of Coupon Acceptance')\n",
    "\n",
    "# rotate the x-axis for readability\n",
    "plt.xticks(rotation=45)\n",
    "plt.legend(title='Coupon Accepted', loc='upper right')  #\n",
    "plt.tight_layout()\n",
    "plt.show()"
   ]
  },
  {
   "cell_type": "markdown",
   "metadata": {},
   "source": [
    "In this graph, we observe that individuals with lower incomes tend to have higher acceptance rates for coupons. This supports our hypothesis that low-income individuals are more likely to accept coupons to receive discounts and save money.\n",
    "\n",
    "Interestingly, we also notice that high-income individuals (those earning more than $100k) exhibit a high acceptance rate as well. This could be due to their desire to save even more money. They likely have the leisure to frequent bars and take advantage of coupon offers without financial worries."
   ]
  },
  {
   "cell_type": "markdown",
   "metadata": {},
   "source": [
    "***3. Is age the key factor affecting on coupon acceptance rate?***"
   ]
  },
  {
   "cell_type": "code",
   "execution_count": 49,
   "metadata": {},
   "outputs": [
    {
     "data": {
      "image/png": "[encoded data removed]",
      "text/plain": [
       "<Figure size 1440x576 with 1 Axes>"
      ]
     },
     "metadata": {
      "needs_background": "light"
     },
     "output_type": "display_data"
    }
   ],
   "source": [
    "# choose a big figure for visibility\n",
    "plt.figure(figsize=(20, 8))\n",
    "\n",
    "sns.countplot(x='age', hue='Y', data=data)\n",
    "\n",
    "plt.title('Coupon Acceptance for Different Age Brackets')\n",
    "plt.xlabel('Age')\n",
    "plt.ylabel('Count of Coupon Acceptance')\n",
    "\n",
    "# rotate the x-axis for readability\n",
    "plt.xticks(rotation=45)\n",
    "plt.legend(title='Coupon Accepted', loc='upper right')\n",
    "plt.tight_layout()\n",
    "plt.show()"
   ]
  },
  {
   "cell_type": "markdown",
   "metadata": {},
   "source": [
    "This graph reinforces our earlier hypothesis that young individuals tend to accept more coupons, whether they are poor or very wealthy. Young people, regardless of their financial extremes, exhibit higher acceptance rates.\n",
    "\n",
    "Another point to note is the very low acceptance rate among those below 21, likely due to legal restrictions."
   ]
  },
  {
   "cell_type": "markdown",
   "metadata": {},
   "source": [
    "***4.Would occupation affecting the rate of acceptance?***"
   ]
  },
  {
   "cell_type": "code",
   "execution_count": 51,
   "metadata": {},
   "outputs": [
    {
     "data": {
      "image/png": "[encoded data removed]",
      "text/plain": [
       "<Figure size 1440x576 with 1 Axes>"
      ]
     },
     "metadata": {
      "needs_background": "light"
     },
     "output_type": "display_data"
    }
   ],
   "source": [
    "# choose a big figure for visibility\n",
    "plt.figure(figsize=(20, 8))\n",
    "\n",
    "sns.countplot(x='occupation', hue='Y', data=data)\n",
    "\n",
    "plt.title('Coupon Acceptance for Different Occupations Brackets')\n",
    "plt.xlabel('Occupation')\n",
    "plt.ylabel('Count of Coupon Acceptance')\n",
    "\n",
    "# rotate the x-axis for readability\n",
    "plt.xticks(rotation=45)\n",
    "plt.legend(title='Coupon Accepted', loc='upper right')\n",
    "plt.tight_layout()\n",
    "plt.show()"
   ]
  },
  {
   "cell_type": "markdown",
   "metadata": {},
   "source": [
    "This graph reveals some intriguing insights:\n",
    "\n",
    "1. High Acceptance Among the Unemployed: Unemployed individuals have the highest coupon acceptance rate. This is understandable, as they have limited income and any discount would provide significant financial relief.\n",
    "\n",
    "2. Students vs. Architecture and Engineering: There is a notable disparity in coupon acceptance rates between students and individuals in Architecture and Engineering. Students, who generally have no income, are more likely to appreciate and use coupons to save money.\n",
    "\n",
    "3. Blue-Collar vs. White-Collar Jobs: Blue-collar workers tend to accept fewer coupons. This could be because they are less engaged with the digital world, where most marketing and advertisements take place. On the other hand, white-collar professionals are more immersed in media and technology, making them more exposed to digital advertisements and hence more likely to use coupons."
   ]
  },
  {
   "cell_type": "markdown",
   "metadata": {},
   "source": [
    "***5. What is the average acceptance and corresponding count within a certain group of age and income?***"
   ]
  },
  {
   "cell_type": "code",
   "execution_count": 55,
   "metadata": {},
   "outputs": [],
   "source": [
    "# find the average and the frequency of acceptance rate given groupy of occupation and income\n",
    "acceptance_rateCounts_by_group = data.groupby(['occupation', 'income', 'age'])['Y'].agg(['mean', 'count']).reset_index()\n",
    "\n",
    "# rename the columns\n",
    "acceptance_rateCounts_by_group.rename(columns={'mean': 'Acceptance_Rate', 'count': 'Total_Count'}, inplace=True)\n",
    "\n",
    "# sort the value in descending values\n",
    "sorted_group = acceptance_rateCounts_by_group.sort_values(by='Acceptance_Rate', ascending=False)"
   ]
  },
  {
   "cell_type": "code",
   "execution_count": 58,
   "metadata": {},
   "outputs": [
    {
     "data": {
      "application/vnd.plotly.v1+json": {
       "config": {
        "plotlyServerURL": "https://plot.ly"
       },
       "data": [
        {
         "alignmentgroup": "True",
         "hovertemplate": "income=$37500 - $49999<br>Age=%{x}<br>Acceptance Rate=%{y}<extra></extra>",
         "legendgroup": "$37500 - $49999",
         "marker": {
          "color": "#636efa",
          "pattern": {
           "shape": ""
          }
         },
         "name": "$37500 - $49999",
         "offsetgroup": "$37500 - $49999",
         "orientation": "v",
         "showlegend": true,
         "textposition": "auto",
         "type": "bar",
         "x": [
          51,
          26,
          51,
          20,
          26,
          46,
          21,
          26,
          21,
          36,
          36,
          41,
          26,
          26,
          31,
          31,
          26,
          31,
          31,
          21,
          51,
          21,
          41,
          36,
          26,
          51,
          26,
          46,
          26,
          26,
          31,
          51,
          31,
          46,
          31,
          46,
          21,
          46,
          20,
          46,
          51,
          51,
          41,
          31,
          31,
          26,
          51,
          31,
          21,
          31,
          51,
          51,
          31,
          36,
          26
         ],
         "xaxis": "x",
         "y": [
          1,
          1,
          0.9090909090909091,
          0.8636363636363636,
          0.8571428571428571,
          0.8260869565217391,
          0.8095238095238095,
          0.803030303030303,
          0.7954545454545454,
          0.7727272727272727,
          0.7727272727272727,
          0.7272727272727273,
          0.7272727272727273,
          0.7272727272727273,
          0.7272727272727273,
          0.7073170731707317,
          0.7045454545454546,
          0.6818181818181818,
          0.6666666666666666,
          0.6515151515151515,
          0.6363636363636364,
          0.6363636363636364,
          0.6363636363636364,
          0.6363636363636364,
          0.5909090909090909,
          0.5909090909090909,
          0.5909090909090909,
          0.5909090909090909,
          0.5681818181818182,
          0.5636363636363636,
          0.5454545454545454,
          0.5454545454545454,
          0.5454545454545454,
          0.5,
          0.5,
          0.5,
          0.4772727272727273,
          0.45454545454545453,
          0.45454545454545453,
          0.45454545454545453,
          0.4393939393939394,
          0.4318181818181818,
          0.4090909090909091,
          0.4090909090909091,
          0.4090909090909091,
          0.38095238095238093,
          0.35555555555555557,
          0.3488372093023256,
          0.3181818181818182,
          0.2727272727272727,
          0.2727272727272727,
          0.2727272727272727,
          0.2727272727272727,
          0.2727272727272727,
          0.09090909090909091
         ],
         "yaxis": "y"
        },
        {
         "alignmentgroup": "True",
         "hovertemplate": "income=$25000 - $37499<br>Age=%{x}<br>Acceptance Rate=%{y}<extra></extra>",
         "legendgroup": "$25000 - $37499",
         "marker": {
          "color": "#EF553B",
          "pattern": {
           "shape": ""
          }
         },
         "name": "$25000 - $37499",
         "offsetgroup": "$25000 - $37499",
         "orientation": "v",
         "showlegend": true,
         "textposition": "auto",
         "type": "bar",
         "x": [
          36,
          31,
          21,
          21,
          51,
          21,
          36,
          41,
          51,
          26,
          26,
          26,
          51,
          31,
          31,
          51,
          26,
          26,
          36,
          41,
          41,
          41,
          46,
          26,
          26,
          21,
          26,
          46,
          51,
          26,
          36,
          46,
          36,
          51,
          31,
          51,
          21,
          26,
          21,
          41,
          41,
          31,
          26,
          21,
          46,
          31,
          36,
          31,
          31,
          31,
          31,
          20,
          21,
          36,
          51,
          41,
          41,
          51,
          31,
          21
         ],
         "xaxis": "x",
         "y": [
          1,
          0.9772727272727273,
          0.9090909090909091,
          0.9090909090909091,
          0.9090909090909091,
          0.8636363636363636,
          0.8636363636363636,
          0.8571428571428571,
          0.8333333333333334,
          0.8181818181818182,
          0.8181818181818182,
          0.7954545454545454,
          0.7272727272727273,
          0.7272727272727273,
          0.7272727272727273,
          0.7272727272727273,
          0.6818181818181818,
          0.6818181818181818,
          0.6818181818181818,
          0.6818181818181818,
          0.6818181818181818,
          0.6818181818181818,
          0.6818181818181818,
          0.6666666666666666,
          0.6590909090909091,
          0.6439393939393939,
          0.6363636363636364,
          0.6363636363636364,
          0.6363636363636364,
          0.6363636363636364,
          0.6363636363636364,
          0.5909090909090909,
          0.5909090909090909,
          0.5909090909090909,
          0.5714285714285714,
          0.5681818181818182,
          0.5681818181818182,
          0.5641025641025641,
          0.5454545454545454,
          0.5454545454545454,
          0.5,
          0.5,
          0.4925373134328358,
          0.4819277108433735,
          0.4772727272727273,
          0.45454545454545453,
          0.45454545454545453,
          0.45454545454545453,
          0.45454545454545453,
          0.45454545454545453,
          0.45454545454545453,
          0.4393939393939394,
          0.4318181818181818,
          0.4090909090909091,
          0.36363636363636365,
          0.3333333333333333,
          0.3181818181818182,
          0.3181818181818182,
          0.3076923076923077,
          0.2878787878787879
         ],
         "yaxis": "y"
        },
        {
         "alignmentgroup": "True",
         "hovertemplate": "income=$12500 - $24999<br>Age=%{x}<br>Acceptance Rate=%{y}<extra></extra>",
         "legendgroup": "$12500 - $24999",
         "marker": {
          "color": "#00cc96",
          "pattern": {
           "shape": ""
          }
         },
         "name": "$12500 - $24999",
         "offsetgroup": "$12500 - $24999",
         "orientation": "v",
         "showlegend": true,
         "textposition": "auto",
         "type": "bar",
         "x": [
          21,
          36,
          21,
          26,
          41,
          31,
          46,
          26,
          36,
          31,
          51,
          26,
          31,
          51,
          20,
          51,
          21,
          21,
          21,
          46,
          41,
          26,
          21,
          36,
          36,
          26,
          31,
          26,
          41,
          51,
          21,
          26,
          36,
          46,
          26,
          46,
          31,
          26,
          21,
          51,
          51,
          26,
          21,
          51,
          31,
          26,
          51,
          31,
          21,
          41,
          51,
          36
         ],
         "xaxis": "x",
         "y": [
          1,
          0.8636363636363636,
          0.8181818181818182,
          0.8181818181818182,
          0.8181818181818182,
          0.7727272727272727,
          0.7727272727272727,
          0.7727272727272727,
          0.7727272727272727,
          0.7727272727272727,
          0.7727272727272727,
          0.7727272727272727,
          0.7384615384615385,
          0.7272727272727273,
          0.7045454545454546,
          0.6818181818181818,
          0.6818181818181818,
          0.6818181818181818,
          0.6818181818181818,
          0.6818181818181818,
          0.6363636363636364,
          0.6363636363636364,
          0.5965909090909091,
          0.5909090909090909,
          0.5909090909090909,
          0.5909090909090909,
          0.5681818181818182,
          0.5666666666666667,
          0.5625,
          0.5454545454545454,
          0.5454545454545454,
          0.5227272727272727,
          0.5172413793103449,
          0.5128205128205128,
          0.5,
          0.5,
          0.5,
          0.5,
          0.45454545454545453,
          0.45454545454545453,
          0.42857142857142855,
          0.4090909090909091,
          0.4090909090909091,
          0.4090909090909091,
          0.4090909090909091,
          0.4090909090909091,
          0.4090909090909091,
          0.38636363636363635,
          0.36363636363636365,
          0.22727272727272727,
          0.21739130434782608,
          0.18181818181818182
         ],
         "yaxis": "y"
        },
        {
         "alignmentgroup": "True",
         "hovertemplate": "income=$75000 - $87499<br>Age=%{x}<br>Acceptance Rate=%{y}<extra></extra>",
         "legendgroup": "$75000 - $87499",
         "marker": {
          "color": "#ab63fa",
          "pattern": {
           "shape": ""
          }
         },
         "name": "$75000 - $87499",
         "offsetgroup": "$75000 - $87499",
         "orientation": "v",
         "showlegend": true,
         "textposition": "auto",
         "type": "bar",
         "x": [
          31,
          41,
          46,
          21,
          31,
          36,
          21,
          26,
          41,
          51,
          31,
          36,
          41,
          41,
          36,
          21,
          36,
          51,
          46,
          51,
          51,
          41,
          31,
          31,
          21,
          26,
          21,
          26,
          26,
          31,
          31
         ],
         "xaxis": "x",
         "y": [
          1,
          0.8529411764705882,
          0.7727272727272727,
          0.75,
          0.6818181818181818,
          0.6363636363636364,
          0.6363636363636364,
          0.6,
          0.5909090909090909,
          0.5454545454545454,
          0.5454545454545454,
          0.5454545454545454,
          0.5454545454545454,
          0.5454545454545454,
          0.5,
          0.5,
          0.45454545454545453,
          0.45454545454545453,
          0.45,
          0.4117647058823529,
          0.4090909090909091,
          0.4090909090909091,
          0.4090909090909091,
          0.36363636363636365,
          0.36363636363636365,
          0.36363636363636365,
          0.36363636363636365,
          0.3577981651376147,
          0.2727272727272727,
          0.20930232558139536,
          0
         ],
         "yaxis": "y"
        },
        {
         "alignmentgroup": "True",
         "hovertemplate": "income=$50000 - $62499<br>Age=%{x}<br>Acceptance Rate=%{y}<extra></extra>",
         "legendgroup": "$50000 - $62499",
         "marker": {
          "color": "#FFA15A",
          "pattern": {
           "shape": ""
          }
         },
         "name": "$50000 - $62499",
         "offsetgroup": "$50000 - $62499",
         "orientation": "v",
         "showlegend": true,
         "textposition": "auto",
         "type": "bar",
         "x": [
          41,
          31,
          31,
          21,
          31,
          36,
          36,
          26,
          21,
          26,
          20,
          21,
          41,
          21,
          36,
          21,
          51,
          31,
          26,
          51,
          21,
          26,
          31,
          26,
          31,
          31,
          51,
          26,
          21,
          46,
          26,
          26,
          31,
          26,
          36,
          51,
          31,
          41,
          51,
          36,
          51,
          51,
          36,
          21,
          26
         ],
         "xaxis": "x",
         "y": [
          1,
          1,
          0.8181818181818182,
          0.7727272727272727,
          0.7727272727272727,
          0.7272727272727273,
          0.7272727272727273,
          0.7272727272727273,
          0.7272727272727273,
          0.7272727272727273,
          0.7272727272727273,
          0.6818181818181818,
          0.6818181818181818,
          0.6818181818181818,
          0.6818181818181818,
          0.6818181818181818,
          0.6666666666666666,
          0.6590909090909091,
          0.6576576576576577,
          0.6363636363636364,
          0.6363636363636364,
          0.6363636363636364,
          0.627906976744186,
          0.6212121212121212,
          0.5909090909090909,
          0.5909090909090909,
          0.5909090909090909,
          0.5909090909090909,
          0.5636363636363636,
          0.5294117647058824,
          0.5151515151515151,
          0.5,
          0.5,
          0.5,
          0.5,
          0.4649122807017544,
          0.45454545454545453,
          0.45454545454545453,
          0.45454545454545453,
          0.45454545454545453,
          0.4318181818181818,
          0.4,
          0.36363636363636365,
          0.3181818181818182,
          0
         ],
         "yaxis": "y"
        },
        {
         "alignmentgroup": "True",
         "hovertemplate": "income=$100000 or More<br>Age=%{x}<br>Acceptance Rate=%{y}<extra></extra>",
         "legendgroup": "$100000 or More",
         "marker": {
          "color": "#19d3f3",
          "pattern": {
           "shape": ""
          }
         },
         "name": "$100000 or More",
         "offsetgroup": "$100000 or More",
         "orientation": "v",
         "showlegend": true,
         "textposition": "auto",
         "type": "bar",
         "x": [
          26,
          51,
          36,
          41,
          51,
          51,
          20,
          26,
          51,
          26,
          36,
          26,
          41,
          31,
          36,
          21,
          21,
          21,
          31,
          41,
          51,
          51,
          21,
          46,
          36,
          26,
          46,
          41,
          36,
          26,
          31,
          31,
          41,
          31,
          46,
          51,
          31,
          31,
          36,
          36,
          46,
          26,
          41,
          36,
          41,
          51,
          36
         ],
         "xaxis": "x",
         "y": [
          0.9523809523809523,
          0.8636363636363636,
          0.8571428571428571,
          0.8181818181818182,
          0.8181818181818182,
          0.7727272727272727,
          0.7538461538461538,
          0.75,
          0.6818181818181818,
          0.6818181818181818,
          0.6818181818181818,
          0.671875,
          0.6428571428571429,
          0.6363636363636364,
          0.6363636363636364,
          0.6287878787878788,
          0.6060606060606061,
          0.6046511627906976,
          0.5909090909090909,
          0.5909090909090909,
          0.5909090909090909,
          0.5909090909090909,
          0.5909090909090909,
          0.5714285714285714,
          0.5714285714285714,
          0.5454545454545454,
          0.5454545454545454,
          0.5454545454545454,
          0.5454545454545454,
          0.5454545454545454,
          0.5397727272727273,
          0.5303030303030303,
          0.5116279069767442,
          0.5,
          0.4772727272727273,
          0.45454545454545453,
          0.45454545454545453,
          0.45454545454545453,
          0.4318181818181818,
          0.4090909090909091,
          0.4090909090909091,
          0.4090909090909091,
          0.38095238095238093,
          0.375,
          0.2727272727272727,
          0.2727272727272727,
          0
         ],
         "yaxis": "y"
        },
        {
         "alignmentgroup": "True",
         "hovertemplate": "income=$62500 - $74999<br>Age=%{x}<br>Acceptance Rate=%{y}<extra></extra>",
         "legendgroup": "$62500 - $74999",
         "marker": {
          "color": "#FF6692",
          "pattern": {
           "shape": ""
          }
         },
         "name": "$62500 - $74999",
         "offsetgroup": "$62500 - $74999",
         "orientation": "v",
         "showlegend": true,
         "textposition": "auto",
         "type": "bar",
         "x": [
          41,
          31,
          46,
          20,
          51,
          21,
          26,
          31,
          41,
          36,
          26,
          36,
          51,
          41,
          41,
          21,
          41,
          51,
          31,
          21,
          41,
          41,
          36,
          46,
          26,
          31,
          21,
          26
         ],
         "xaxis": "x",
         "y": [
          0.8823529411764706,
          0.8181818181818182,
          0.8095238095238095,
          0.7954545454545454,
          0.7727272727272727,
          0.6923076923076923,
          0.6818181818181818,
          0.6363636363636364,
          0.627906976744186,
          0.5909090909090909,
          0.5757575757575758,
          0.5,
          0.5,
          0.45454545454545453,
          0.45454545454545453,
          0.45454545454545453,
          0.45454545454545453,
          0.45454545454545453,
          0.4090909090909091,
          0.4090909090909091,
          0.4090909090909091,
          0.4090909090909091,
          0.4090909090909091,
          0.36363636363636365,
          0.35294117647058826,
          0.3522727272727273,
          0.3181818181818182,
          0.24242424242424243
         ],
         "yaxis": "y"
        },
        {
         "alignmentgroup": "True",
         "hovertemplate": "income=$87500 - $99999<br>Age=%{x}<br>Acceptance Rate=%{y}<extra></extra>",
         "legendgroup": "$87500 - $99999",
         "marker": {
          "color": "#B6E880",
          "pattern": {
           "shape": ""
          }
         },
         "name": "$87500 - $99999",
         "offsetgroup": "$87500 - $99999",
         "orientation": "v",
         "showlegend": true,
         "textposition": "auto",
         "type": "bar",
         "x": [
          41,
          36,
          21,
          31,
          21,
          20,
          26,
          26,
          46,
          21,
          21,
          41,
          51,
          20,
          31,
          31,
          31,
          26,
          36,
          36,
          51,
          26,
          41,
          26,
          51,
          51,
          36,
          36
         ],
         "xaxis": "x",
         "y": [
          0.8333333333333334,
          0.8181818181818182,
          0.7954545454545454,
          0.7727272727272727,
          0.7272727272727273,
          0.7076923076923077,
          0.6785714285714286,
          0.6615384615384615,
          0.6212121212121212,
          0.5909090909090909,
          0.5909090909090909,
          0.5454545454545454,
          0.5454545454545454,
          0.5,
          0.5,
          0.5,
          0.45454545454545453,
          0.45454545454545453,
          0.45454545454545453,
          0.3939393939393939,
          0.36363636363636365,
          0.3333333333333333,
          0.3181818181818182,
          0.2727272727272727,
          0.2558139534883721,
          0.25,
          0.22727272727272727,
          0.22727272727272727
         ],
         "yaxis": "y"
        },
        {
         "alignmentgroup": "True",
         "hovertemplate": "income=Less than $12500<br>Age=%{x}<br>Acceptance Rate=%{y}<extra></extra>",
         "legendgroup": "Less than $12500",
         "marker": {
          "color": "#FF97FF",
          "pattern": {
           "shape": ""
          }
         },
         "name": "Less than $12500",
         "offsetgroup": "Less than $12500",
         "orientation": "v",
         "showlegend": true,
         "textposition": "auto",
         "type": "bar",
         "x": [
          21,
          21,
          46,
          26,
          21,
          46,
          21,
          41,
          31,
          20,
          21,
          51,
          51,
          26,
          20,
          21,
          20,
          51,
          36,
          51,
          51
         ],
         "xaxis": "x",
         "y": [
          0.8181818181818182,
          0.7361111111111112,
          0.7272727272727273,
          0.7012987012987013,
          0.6818181818181818,
          0.6818181818181818,
          0.6818181818181818,
          0.6363636363636364,
          0.6363636363636364,
          0.6259541984732825,
          0.5665024630541872,
          0.5606060606060606,
          0.55,
          0.5,
          0.45454545454545453,
          0.45454545454545453,
          0.4090909090909091,
          0.4090909090909091,
          0.38636363636363635,
          0.36363636363636365,
          0.36363636363636365
         ],
         "yaxis": "y"
        }
       ],
       "layout": {
        "autosize": false,
        "barmode": "group",
        "height": 1000,
        "legend": {
         "title": {
          "text": "Annual Income"
         },
         "tracegroupgap": 0,
         "x": 1.01,
         "xanchor": "right",
         "y": 0.99,
         "yanchor": "top"
        },
        "template": {
         "data": {
          "bar": [
           {
            "error_x": {
             "color": "#2a3f5f"
            },
            "error_y": {
             "color": "#2a3f5f"
            },
            "marker": {
             "line": {
              "color": "#E5ECF6",
              "width": 0.5
             },
             "pattern": {
              "fillmode": "overlay",
              "size": 10,
              "solidity": 0.2
             }
            },
            "type": "bar"
           }
          ],
          "barpolar": [
           {
            "marker": {
             "line": {
              "color": "#E5ECF6",
              "width": 0.5
             },
             "pattern": {
              "fillmode": "overlay",
              "size": 10,
              "solidity": 0.2
             }
            },
            "type": "barpolar"
           }
          ],
          "carpet": [
           {
            "aaxis": {
             "endlinecolor": "#2a3f5f",
             "gridcolor": "white",
             "linecolor": "white",
             "minorgridcolor": "white",
             "startlinecolor": "#2a3f5f"
            },
            "baxis": {
             "endlinecolor": "#2a3f5f",
             "gridcolor": "white",
             "linecolor": "white",
             "minorgridcolor": "white",
             "startlinecolor": "#2a3f5f"
            },
            "type": "carpet"
           }
          ],
          "choropleth": [
           {
            "colorbar": {
             "outlinewidth": 0,
             "ticks": ""
            },
            "type": "choropleth"
           }
          ],
          "contour": [
           {
            "colorbar": {
             "outlinewidth": 0,
             "ticks": ""
            },
            "colorscale": [
             [
              0,
              "#0d0887"
             ],
             [
              0.1111111111111111,
              "#46039f"
             ],
             [
              0.2222222222222222,
              "#7201a8"
             ],
             [
              0.3333333333333333,
              "#9c179e"
             ],
             [
              0.4444444444444444,
              "#bd3786"
             ],
             [
              0.5555555555555556,
              "#d8576b"
             ],
             [
              0.6666666666666666,
              "#ed7953"
             ],
             [
              0.7777777777777778,
              "#fb9f3a"
             ],
             [
              0.8888888888888888,
              "#fdca26"
             ],
             [
              1,
              "#f0f921"
             ]
            ],
            "type": "contour"
           }
          ],
          "contourcarpet": [
           {
            "colorbar": {
             "outlinewidth": 0,
             "ticks": ""
            },
            "type": "contourcarpet"
           }
          ],
          "heatmap": [
           {
            "colorbar": {
             "outlinewidth": 0,
             "ticks": ""
            },
            "colorscale": [
             [
              0,
              "#0d0887"
             ],
             [
              0.1111111111111111,
              "#46039f"
             ],
             [
              0.2222222222222222,
              "#7201a8"
             ],
             [
              0.3333333333333333,
              "#9c179e"
             ],
             [
              0.4444444444444444,
              "#bd3786"
             ],
             [
              0.5555555555555556,
              "#d8576b"
             ],
             [
              0.6666666666666666,
              "#ed7953"
             ],
             [
              0.7777777777777778,
              "#fb9f3a"
             ],
             [
              0.8888888888888888,
              "#fdca26"
             ],
             [
              1,
              "#f0f921"
             ]
            ],
            "type": "heatmap"
           }
          ],
          "heatmapgl": [
           {
            "colorbar": {
             "outlinewidth": 0,
             "ticks": ""
            },
            "colorscale": [
             [
              0,
              "#0d0887"
             ],
             [
              0.1111111111111111,
              "#46039f"
             ],
             [
              0.2222222222222222,
              "#7201a8"
             ],
             [
              0.3333333333333333,
              "#9c179e"
             ],
             [
              0.4444444444444444,
              "#bd3786"
             ],
             [
              0.5555555555555556,
              "#d8576b"
             ],
             [
              0.6666666666666666,
              "#ed7953"
             ],
             [
              0.7777777777777778,
              "#fb9f3a"
             ],
             [
              0.8888888888888888,
              "#fdca26"
             ],
             [
              1,
              "#f0f921"
             ]
            ],
            "type": "heatmapgl"
           }
          ],
          "histogram": [
           {
            "marker": {
             "pattern": {
              "fillmode": "overlay",
              "size": 10,
              "solidity": 0.2
             }
            },
            "type": "histogram"
           }
          ],
          "histogram2d": [
           {
            "colorbar": {
             "outlinewidth": 0,
             "ticks": ""
            },
            "colorscale": [
             [
              0,
              "#0d0887"
             ],
             [
              0.1111111111111111,
              "#46039f"
             ],
             [
              0.2222222222222222,
              "#7201a8"
             ],
             [
              0.3333333333333333,
              "#9c179e"
             ],
             [
              0.4444444444444444,
              "#bd3786"
             ],
             [
              0.5555555555555556,
              "#d8576b"
             ],
             [
              0.6666666666666666,
              "#ed7953"
             ],
             [
              0.7777777777777778,
              "#fb9f3a"
             ],
             [
              0.8888888888888888,
              "#fdca26"
             ],
             [
              1,
              "#f0f921"
             ]
            ],
            "type": "histogram2d"
           }
          ],
          "histogram2dcontour": [
           {
            "colorbar": {
             "outlinewidth": 0,
             "ticks": ""
            },
            "colorscale": [
             [
              0,
              "#0d0887"
             ],
             [
              0.1111111111111111,
              "#46039f"
             ],
             [
              0.2222222222222222,
              "#7201a8"
             ],
             [
              0.3333333333333333,
              "#9c179e"
             ],
             [
              0.4444444444444444,
              "#bd3786"
             ],
             [
              0.5555555555555556,
              "#d8576b"
             ],
             [
              0.6666666666666666,
              "#ed7953"
             ],
             [
              0.7777777777777778,
              "#fb9f3a"
             ],
             [
              0.8888888888888888,
              "#fdca26"
             ],
             [
              1,
              "#f0f921"
             ]
            ],
            "type": "histogram2dcontour"
           }
          ],
          "mesh3d": [
           {
            "colorbar": {
             "outlinewidth": 0,
             "ticks": ""
            },
            "type": "mesh3d"
           }
          ],
          "parcoords": [
           {
            "line": {
             "colorbar": {
              "outlinewidth": 0,
              "ticks": ""
             }
            },
            "type": "parcoords"
           }
          ],
          "pie": [
           {
            "automargin": true,
            "type": "pie"
           }
          ],
          "scatter": [
           {
            "fillpattern": {
             "fillmode": "overlay",
             "size": 10,
             "solidity": 0.2
            },
            "type": "scatter"
           }
          ],
          "scatter3d": [
           {
            "line": {
             "colorbar": {
              "outlinewidth": 0,
              "ticks": ""
             }
            },
            "marker": {
             "colorbar": {
              "outlinewidth": 0,
              "ticks": ""
             }
            },
            "type": "scatter3d"
           }
          ],
          "scattercarpet": [
           {
            "marker": {
             "colorbar": {
              "outlinewidth": 0,
              "ticks": ""
             }
            },
            "type": "scattercarpet"
           }
          ],
          "scattergeo": [
           {
            "marker": {
             "colorbar": {
              "outlinewidth": 0,
              "ticks": ""
             }
            },
            "type": "scattergeo"
           }
          ],
          "scattergl": [
           {
            "marker": {
             "colorbar": {
              "outlinewidth": 0,
              "ticks": ""
             }
            },
            "type": "scattergl"
           }
          ],
          "scattermapbox": [
           {
            "marker": {
             "colorbar": {
              "outlinewidth": 0,
              "ticks": ""
             }
            },
            "type": "scattermapbox"
           }
          ],
          "scatterpolar": [
           {
            "marker": {
             "colorbar": {
              "outlinewidth": 0,
              "ticks": ""
             }
            },
            "type": "scatterpolar"
           }
          ],
          "scatterpolargl": [
           {
            "marker": {
             "colorbar": {
              "outlinewidth": 0,
              "ticks": ""
             }
            },
            "type": "scatterpolargl"
           }
          ],
          "scatterternary": [
           {
            "marker": {
             "colorbar": {
              "outlinewidth": 0,
              "ticks": ""
             }
            },
            "type": "scatterternary"
           }
          ],
          "surface": [
           {
            "colorbar": {
             "outlinewidth": 0,
             "ticks": ""
            },
            "colorscale": [
             [
              0,
              "#0d0887"
             ],
             [
              0.1111111111111111,
              "#46039f"
             ],
             [
              0.2222222222222222,
              "#7201a8"
             ],
             [
              0.3333333333333333,
              "#9c179e"
             ],
             [
              0.4444444444444444,
              "#bd3786"
             ],
             [
              0.5555555555555556,
              "#d8576b"
             ],
             [
              0.6666666666666666,
              "#ed7953"
             ],
             [
              0.7777777777777778,
              "#fb9f3a"
             ],
             [
              0.8888888888888888,
              "#fdca26"
             ],
             [
              1,
              "#f0f921"
             ]
            ],
            "type": "surface"
           }
          ],
          "table": [
           {
            "cells": {
             "fill": {
              "color": "#EBF0F8"
             },
             "line": {
              "color": "white"
             }
            },
            "header": {
             "fill": {
              "color": "#C8D4E3"
             },
             "line": {
              "color": "white"
             }
            },
            "type": "table"
           }
          ]
         },
         "layout": {
          "annotationdefaults": {
           "arrowcolor": "#2a3f5f",
           "arrowhead": 0,
           "arrowwidth": 1
          },
          "autotypenumbers": "strict",
          "coloraxis": {
           "colorbar": {
            "outlinewidth": 0,
            "ticks": ""
           }
          },
          "colorscale": {
           "diverging": [
            [
             0,
             "#8e0152"
            ],
            [
             0.1,
             "#c51b7d"
            ],
            [
             0.2,
             "#de77ae"
            ],
            [
             0.3,
             "#f1b6da"
            ],
            [
             0.4,
             "#fde0ef"
            ],
            [
             0.5,
             "#f7f7f7"
            ],
            [
             0.6,
             "#e6f5d0"
            ],
            [
             0.7,
             "#b8e186"
            ],
            [
             0.8,
             "#7fbc41"
            ],
            [
             0.9,
             "#4d9221"
            ],
            [
             1,
             "#276419"
            ]
           ],
           "sequential": [
            [
             0,
             "#0d0887"
            ],
            [
             0.1111111111111111,
             "#46039f"
            ],
            [
             0.2222222222222222,
             "#7201a8"
            ],
            [
             0.3333333333333333,
             "#9c179e"
            ],
            [
             0.4444444444444444,
             "#bd3786"
            ],
            [
             0.5555555555555556,
             "#d8576b"
            ],
            [
             0.6666666666666666,
             "#ed7953"
            ],
            [
             0.7777777777777778,
             "#fb9f3a"
            ],
            [
             0.8888888888888888,
             "#fdca26"
            ],
            [
             1,
             "#f0f921"
            ]
           ],
           "sequentialminus": [
            [
             0,
             "#0d0887"
            ],
            [
             0.1111111111111111,
             "#46039f"
            ],
            [
             0.2222222222222222,
             "#7201a8"
            ],
            [
             0.3333333333333333,
             "#9c179e"
            ],
            [
             0.4444444444444444,
             "#bd3786"
            ],
            [
             0.5555555555555556,
             "#d8576b"
            ],
            [
             0.6666666666666666,
             "#ed7953"
            ],
            [
             0.7777777777777778,
             "#fb9f3a"
            ],
            [
             0.8888888888888888,
             "#fdca26"
            ],
            [
             1,
             "#f0f921"
            ]
           ]
          },
          "colorway": [
           "#636efa",
           "#EF553B",
           "#00cc96",
           "#ab63fa",
           "#FFA15A",
           "#19d3f3",
           "#FF6692",
           "#B6E880",
           "#FF97FF",
           "#FECB52"
          ],
          "font": {
           "color": "#2a3f5f"
          },
          "geo": {
           "bgcolor": "white",
           "lakecolor": "white",
           "landcolor": "#E5ECF6",
           "showlakes": true,
           "showland": true,
           "subunitcolor": "white"
          },
          "hoverlabel": {
           "align": "left"
          },
          "hovermode": "closest",
          "mapbox": {
           "style": "light"
          },
          "paper_bgcolor": "white",
          "plot_bgcolor": "#E5ECF6",
          "polar": {
           "angularaxis": {
            "gridcolor": "white",
            "linecolor": "white",
            "ticks": ""
           },
           "bgcolor": "#E5ECF6",
           "radialaxis": {
            "gridcolor": "white",
            "linecolor": "white",
            "ticks": ""
           }
          },
          "scene": {
           "xaxis": {
            "backgroundcolor": "#E5ECF6",
            "gridcolor": "white",
            "gridwidth": 2,
            "linecolor": "white",
            "showbackground": true,
            "ticks": "",
            "zerolinecolor": "white"
           },
           "yaxis": {
            "backgroundcolor": "#E5ECF6",
            "gridcolor": "white",
            "gridwidth": 2,
            "linecolor": "white",
            "showbackground": true,
            "ticks": "",
            "zerolinecolor": "white"
           },
           "zaxis": {
            "backgroundcolor": "#E5ECF6",
            "gridcolor": "white",
            "gridwidth": 2,
            "linecolor": "white",
            "showbackground": true,
            "ticks": "",
            "zerolinecolor": "white"
           }
          },
          "shapedefaults": {
           "line": {
            "color": "#2a3f5f"
           }
          },
          "ternary": {
           "aaxis": {
            "gridcolor": "white",
            "linecolor": "white",
            "ticks": ""
           },
           "baxis": {
            "gridcolor": "white",
            "linecolor": "white",
            "ticks": ""
           },
           "bgcolor": "#E5ECF6",
           "caxis": {
            "gridcolor": "white",
            "linecolor": "white",
            "ticks": ""
           }
          },
          "title": {
           "x": 0.05
          },
          "xaxis": {
           "automargin": true,
           "gridcolor": "white",
           "linecolor": "white",
           "ticks": "",
           "title": {
            "standoff": 15
           },
           "zerolinecolor": "white",
           "zerolinewidth": 2
          },
          "yaxis": {
           "automargin": true,
           "gridcolor": "white",
           "linecolor": "white",
           "ticks": "",
           "title": {
            "standoff": 15
           },
           "zerolinecolor": "white",
           "zerolinewidth": 2
          }
         }
        },
        "title": {
         "text": "Coupon Acceptance Rate by Age and Annual Income"
        },
        "width": 2500,
        "xaxis": {
         "anchor": "y",
         "domain": [
          0,
          1
         ],
         "tickangle": -45,
         "title": {
          "text": "Age"
         }
        },
        "yaxis": {
         "anchor": "x",
         "domain": [
          0,
          1
         ],
         "title": {
          "text": "Acceptance Rate"
         }
        }
       }
      },
      "text/html": [
       "<div>                            <div id=\"bee996fd-580c-4357-8f49-b8f9cd83ae5b\" class=\"plotly-graph-div\" style=\"height:1000px; width:2500px;\"></div>            <script type=\"text/javascript\">                require([\"plotly\"], function(Plotly) {                    window.PLOTLYENV=window.PLOTLYENV || {};                                    if (document.getElementById(\"bee996fd-580c-4357-8f49-b8f9cd83ae5b\")) {                    Plotly.newPlot(                        \"bee996fd-580c-4357-8f49-b8f9cd83ae5b\",                        [{\"alignmentgroup\":\"True\",\"hovertemplate\":\"income=$37500 - $49999\\u003cbr\\u003eAge=%{x}\\u003cbr\\u003eAcceptance Rate=%{y}\\u003cextra\\u003e\\u003c\\u002fextra\\u003e\",\"legendgroup\":\"$37500 - $49999\",\"marker\":{\"color\":\"#636efa\",\"pattern\":{\"shape\":\"\"}},\"name\":\"$37500 - $49999\",\"offsetgroup\":\"$37500 - $49999\",\"orientation\":\"v\",\"showlegend\":true,\"textposition\":\"auto\",\"x\":[51,26,51,20,26,46,21,26,21,36,36,41,26,26,31,31,26,31,31,21,51,21,41,36,26,51,26,46,26,26,31,51,31,46,31,46,21,46,20,46,51,51,41,31,31,26,51,31,21,31,51,51,31,36,26],\"xaxis\":\"x\",\"y\":[1.0,1.0,0.9090909090909091,0.8636363636363636,0.8571428571428571,0.8260869565217391,0.8095238095238095,0.803030303030303,0.7954545454545454,0.7727272727272727,0.7727272727272727,0.7272727272727273,0.7272727272727273,0.7272727272727273,0.7272727272727273,0.7073170731707317,0.7045454545454546,0.6818181818181818,0.6666666666666666,0.6515151515151515,0.6363636363636364,0.6363636363636364,0.6363636363636364,0.6363636363636364,0.5909090909090909,0.5909090909090909,0.5909090909090909,0.5909090909090909,0.5681818181818182,0.5636363636363636,0.5454545454545454,0.5454545454545454,0.5454545454545454,0.5,0.5,0.5,0.4772727272727273,0.45454545454545453,0.45454545454545453,0.45454545454545453,0.4393939393939394,0.4318181818181818,0.4090909090909091,0.4090909090909091,0.4090909090909091,0.38095238095238093,0.35555555555555557,0.3488372093023256,0.3181818181818182,0.2727272727272727,0.2727272727272727,0.2727272727272727,0.2727272727272727,0.2727272727272727,0.09090909090909091],\"yaxis\":\"y\",\"type\":\"bar\"},{\"alignmentgroup\":\"True\",\"hovertemplate\":\"income=$25000 - $37499\\u003cbr\\u003eAge=%{x}\\u003cbr\\u003eAcceptance Rate=%{y}\\u003cextra\\u003e\\u003c\\u002fextra\\u003e\",\"legendgroup\":\"$25000 - $37499\",\"marker\":{\"color\":\"#EF553B\",\"pattern\":{\"shape\":\"\"}},\"name\":\"$25000 - $37499\",\"offsetgroup\":\"$25000 - $37499\",\"orientation\":\"v\",\"showlegend\":true,\"textposition\":\"auto\",\"x\":[36,31,21,21,51,21,36,41,51,26,26,26,51,31,31,51,26,26,36,41,41,41,46,26,26,21,26,46,51,26,36,46,36,51,31,51,21,26,21,41,41,31,26,21,46,31,36,31,31,31,31,20,21,36,51,41,41,51,31,21],\"xaxis\":\"x\",\"y\":[1.0,0.9772727272727273,0.9090909090909091,0.9090909090909091,0.9090909090909091,0.8636363636363636,0.8636363636363636,0.8571428571428571,0.8333333333333334,0.8181818181818182,0.8181818181818182,0.7954545454545454,0.7272727272727273,0.7272727272727273,0.7272727272727273,0.7272727272727273,0.6818181818181818,0.6818181818181818,0.6818181818181818,0.6818181818181818,0.6818181818181818,0.6818181818181818,0.6818181818181818,0.6666666666666666,0.6590909090909091,0.6439393939393939,0.6363636363636364,0.6363636363636364,0.6363636363636364,0.6363636363636364,0.6363636363636364,0.5909090909090909,0.5909090909090909,0.5909090909090909,0.5714285714285714,0.5681818181818182,0.5681818181818182,0.5641025641025641,0.5454545454545454,0.5454545454545454,0.5,0.5,0.4925373134328358,0.4819277108433735,0.4772727272727273,0.45454545454545453,0.45454545454545453,0.45454545454545453,0.45454545454545453,0.45454545454545453,0.45454545454545453,0.4393939393939394,0.4318181818181818,0.4090909090909091,0.36363636363636365,0.3333333333333333,0.3181818181818182,0.3181818181818182,0.3076923076923077,0.2878787878787879],\"yaxis\":\"y\",\"type\":\"bar\"},{\"alignmentgroup\":\"True\",\"hovertemplate\":\"income=$12500 - $24999\\u003cbr\\u003eAge=%{x}\\u003cbr\\u003eAcceptance Rate=%{y}\\u003cextra\\u003e\\u003c\\u002fextra\\u003e\",\"legendgroup\":\"$12500 - $24999\",\"marker\":{\"color\":\"#00cc96\",\"pattern\":{\"shape\":\"\"}},\"name\":\"$12500 - $24999\",\"offsetgroup\":\"$12500 - $24999\",\"orientation\":\"v\",\"showlegend\":true,\"textposition\":\"auto\",\"x\":[21,36,21,26,41,31,46,26,36,31,51,26,31,51,20,51,21,21,21,46,41,26,21,36,36,26,31,26,41,51,21,26,36,46,26,46,31,26,21,51,51,26,21,51,31,26,51,31,21,41,51,36],\"xaxis\":\"x\",\"y\":[1.0,0.8636363636363636,0.8181818181818182,0.8181818181818182,0.8181818181818182,0.7727272727272727,0.7727272727272727,0.7727272727272727,0.7727272727272727,0.7727272727272727,0.7727272727272727,0.7727272727272727,0.7384615384615385,0.7272727272727273,0.7045454545454546,0.6818181818181818,0.6818181818181818,0.6818181818181818,0.6818181818181818,0.6818181818181818,0.6363636363636364,0.6363636363636364,0.5965909090909091,0.5909090909090909,0.5909090909090909,0.5909090909090909,0.5681818181818182,0.5666666666666667,0.5625,0.5454545454545454,0.5454545454545454,0.5227272727272727,0.5172413793103449,0.5128205128205128,0.5,0.5,0.5,0.5,0.45454545454545453,0.45454545454545453,0.42857142857142855,0.4090909090909091,0.4090909090909091,0.4090909090909091,0.4090909090909091,0.4090909090909091,0.4090909090909091,0.38636363636363635,0.36363636363636365,0.22727272727272727,0.21739130434782608,0.18181818181818182],\"yaxis\":\"y\",\"type\":\"bar\"},{\"alignmentgroup\":\"True\",\"hovertemplate\":\"income=$75000 - $87499\\u003cbr\\u003eAge=%{x}\\u003cbr\\u003eAcceptance Rate=%{y}\\u003cextra\\u003e\\u003c\\u002fextra\\u003e\",\"legendgroup\":\"$75000 - $87499\",\"marker\":{\"color\":\"#ab63fa\",\"pattern\":{\"shape\":\"\"}},\"name\":\"$75000 - $87499\",\"offsetgroup\":\"$75000 - $87499\",\"orientation\":\"v\",\"showlegend\":true,\"textposition\":\"auto\",\"x\":[31,41,46,21,31,36,21,26,41,51,31,36,41,41,36,21,36,51,46,51,51,41,31,31,21,26,21,26,26,31,31],\"xaxis\":\"x\",\"y\":[1.0,0.8529411764705882,0.7727272727272727,0.75,0.6818181818181818,0.6363636363636364,0.6363636363636364,0.6,0.5909090909090909,0.5454545454545454,0.5454545454545454,0.5454545454545454,0.5454545454545454,0.5454545454545454,0.5,0.5,0.45454545454545453,0.45454545454545453,0.45,0.4117647058823529,0.4090909090909091,0.4090909090909091,0.4090909090909091,0.36363636363636365,0.36363636363636365,0.36363636363636365,0.36363636363636365,0.3577981651376147,0.2727272727272727,0.20930232558139536,0.0],\"yaxis\":\"y\",\"type\":\"bar\"},{\"alignmentgroup\":\"True\",\"hovertemplate\":\"income=$50000 - $62499\\u003cbr\\u003eAge=%{x}\\u003cbr\\u003eAcceptance Rate=%{y}\\u003cextra\\u003e\\u003c\\u002fextra\\u003e\",\"legendgroup\":\"$50000 - $62499\",\"marker\":{\"color\":\"#FFA15A\",\"pattern\":{\"shape\":\"\"}},\"name\":\"$50000 - $62499\",\"offsetgroup\":\"$50000 - $62499\",\"orientation\":\"v\",\"showlegend\":true,\"textposition\":\"auto\",\"x\":[41,31,31,21,31,36,36,26,21,26,20,21,41,21,36,21,51,31,26,51,21,26,31,26,31,31,51,26,21,46,26,26,31,26,36,51,31,41,51,36,51,51,36,21,26],\"xaxis\":\"x\",\"y\":[1.0,1.0,0.8181818181818182,0.7727272727272727,0.7727272727272727,0.7272727272727273,0.7272727272727273,0.7272727272727273,0.7272727272727273,0.7272727272727273,0.7272727272727273,0.6818181818181818,0.6818181818181818,0.6818181818181818,0.6818181818181818,0.6818181818181818,0.6666666666666666,0.6590909090909091,0.6576576576576577,0.6363636363636364,0.6363636363636364,0.6363636363636364,0.627906976744186,0.6212121212121212,0.5909090909090909,0.5909090909090909,0.5909090909090909,0.5909090909090909,0.5636363636363636,0.5294117647058824,0.5151515151515151,0.5,0.5,0.5,0.5,0.4649122807017544,0.45454545454545453,0.45454545454545453,0.45454545454545453,0.45454545454545453,0.4318181818181818,0.4,0.36363636363636365,0.3181818181818182,0.0],\"yaxis\":\"y\",\"type\":\"bar\"},{\"alignmentgroup\":\"True\",\"hovertemplate\":\"income=$100000 or More\\u003cbr\\u003eAge=%{x}\\u003cbr\\u003eAcceptance Rate=%{y}\\u003cextra\\u003e\\u003c\\u002fextra\\u003e\",\"legendgroup\":\"$100000 or More\",\"marker\":{\"color\":\"#19d3f3\",\"pattern\":{\"shape\":\"\"}},\"name\":\"$100000 or More\",\"offsetgroup\":\"$100000 or More\",\"orientation\":\"v\",\"showlegend\":true,\"textposition\":\"auto\",\"x\":[26,51,36,41,51,51,20,26,51,26,36,26,41,31,36,21,21,21,31,41,51,51,21,46,36,26,46,41,36,26,31,31,41,31,46,51,31,31,36,36,46,26,41,36,41,51,36],\"xaxis\":\"x\",\"y\":[0.9523809523809523,0.8636363636363636,0.8571428571428571,0.8181818181818182,0.8181818181818182,0.7727272727272727,0.7538461538461538,0.75,0.6818181818181818,0.6818181818181818,0.6818181818181818,0.671875,0.6428571428571429,0.6363636363636364,0.6363636363636364,0.6287878787878788,0.6060606060606061,0.6046511627906976,0.5909090909090909,0.5909090909090909,0.5909090909090909,0.5909090909090909,0.5909090909090909,0.5714285714285714,0.5714285714285714,0.5454545454545454,0.5454545454545454,0.5454545454545454,0.5454545454545454,0.5454545454545454,0.5397727272727273,0.5303030303030303,0.5116279069767442,0.5,0.4772727272727273,0.45454545454545453,0.45454545454545453,0.45454545454545453,0.4318181818181818,0.4090909090909091,0.4090909090909091,0.4090909090909091,0.38095238095238093,0.375,0.2727272727272727,0.2727272727272727,0.0],\"yaxis\":\"y\",\"type\":\"bar\"},{\"alignmentgroup\":\"True\",\"hovertemplate\":\"income=$62500 - $74999\\u003cbr\\u003eAge=%{x}\\u003cbr\\u003eAcceptance Rate=%{y}\\u003cextra\\u003e\\u003c\\u002fextra\\u003e\",\"legendgroup\":\"$62500 - $74999\",\"marker\":{\"color\":\"#FF6692\",\"pattern\":{\"shape\":\"\"}},\"name\":\"$62500 - $74999\",\"offsetgroup\":\"$62500 - $74999\",\"orientation\":\"v\",\"showlegend\":true,\"textposition\":\"auto\",\"x\":[41,31,46,20,51,21,26,31,41,36,26,36,51,41,41,21,41,51,31,21,41,41,36,46,26,31,21,26],\"xaxis\":\"x\",\"y\":[0.8823529411764706,0.8181818181818182,0.8095238095238095,0.7954545454545454,0.7727272727272727,0.6923076923076923,0.6818181818181818,0.6363636363636364,0.627906976744186,0.5909090909090909,0.5757575757575758,0.5,0.5,0.45454545454545453,0.45454545454545453,0.45454545454545453,0.45454545454545453,0.45454545454545453,0.4090909090909091,0.4090909090909091,0.4090909090909091,0.4090909090909091,0.4090909090909091,0.36363636363636365,0.35294117647058826,0.3522727272727273,0.3181818181818182,0.24242424242424243],\"yaxis\":\"y\",\"type\":\"bar\"},{\"alignmentgroup\":\"True\",\"hovertemplate\":\"income=$87500 - $99999\\u003cbr\\u003eAge=%{x}\\u003cbr\\u003eAcceptance Rate=%{y}\\u003cextra\\u003e\\u003c\\u002fextra\\u003e\",\"legendgroup\":\"$87500 - $99999\",\"marker\":{\"color\":\"#B6E880\",\"pattern\":{\"shape\":\"\"}},\"name\":\"$87500 - $99999\",\"offsetgroup\":\"$87500 - $99999\",\"orientation\":\"v\",\"showlegend\":true,\"textposition\":\"auto\",\"x\":[41,36,21,31,21,20,26,26,46,21,21,41,51,20,31,31,31,26,36,36,51,26,41,26,51,51,36,36],\"xaxis\":\"x\",\"y\":[0.8333333333333334,0.8181818181818182,0.7954545454545454,0.7727272727272727,0.7272727272727273,0.7076923076923077,0.6785714285714286,0.6615384615384615,0.6212121212121212,0.5909090909090909,0.5909090909090909,0.5454545454545454,0.5454545454545454,0.5,0.5,0.5,0.45454545454545453,0.45454545454545453,0.45454545454545453,0.3939393939393939,0.36363636363636365,0.3333333333333333,0.3181818181818182,0.2727272727272727,0.2558139534883721,0.25,0.22727272727272727,0.22727272727272727],\"yaxis\":\"y\",\"type\":\"bar\"},{\"alignmentgroup\":\"True\",\"hovertemplate\":\"income=Less than $12500\\u003cbr\\u003eAge=%{x}\\u003cbr\\u003eAcceptance Rate=%{y}\\u003cextra\\u003e\\u003c\\u002fextra\\u003e\",\"legendgroup\":\"Less than $12500\",\"marker\":{\"color\":\"#FF97FF\",\"pattern\":{\"shape\":\"\"}},\"name\":\"Less than $12500\",\"offsetgroup\":\"Less than $12500\",\"orientation\":\"v\",\"showlegend\":true,\"textposition\":\"auto\",\"x\":[21,21,46,26,21,46,21,41,31,20,21,51,51,26,20,21,20,51,36,51,51],\"xaxis\":\"x\",\"y\":[0.8181818181818182,0.7361111111111112,0.7272727272727273,0.7012987012987013,0.6818181818181818,0.6818181818181818,0.6818181818181818,0.6363636363636364,0.6363636363636364,0.6259541984732825,0.5665024630541872,0.5606060606060606,0.55,0.5,0.45454545454545453,0.45454545454545453,0.4090909090909091,0.4090909090909091,0.38636363636363635,0.36363636363636365,0.36363636363636365],\"yaxis\":\"y\",\"type\":\"bar\"}],                        {\"template\":{\"data\":{\"histogram2dcontour\":[{\"type\":\"histogram2dcontour\",\"colorbar\":{\"outlinewidth\":0,\"ticks\":\"\"},\"colorscale\":[[0.0,\"#0d0887\"],[0.1111111111111111,\"#46039f\"],[0.2222222222222222,\"#7201a8\"],[0.3333333333333333,\"#9c179e\"],[0.4444444444444444,\"#bd3786\"],[0.5555555555555556,\"#d8576b\"],[0.6666666666666666,\"#ed7953\"],[0.7777777777777778,\"#fb9f3a\"],[0.8888888888888888,\"#fdca26\"],[1.0,\"#f0f921\"]]}],\"choropleth\":[{\"type\":\"choropleth\",\"colorbar\":{\"outlinewidth\":0,\"ticks\":\"\"}}],\"histogram2d\":[{\"type\":\"histogram2d\",\"colorbar\":{\"outlinewidth\":0,\"ticks\":\"\"},\"colorscale\":[[0.0,\"#0d0887\"],[0.1111111111111111,\"#46039f\"],[0.2222222222222222,\"#7201a8\"],[0.3333333333333333,\"#9c179e\"],[0.4444444444444444,\"#bd3786\"],[0.5555555555555556,\"#d8576b\"],[0.6666666666666666,\"#ed7953\"],[0.7777777777777778,\"#fb9f3a\"],[0.8888888888888888,\"#fdca26\"],[1.0,\"#f0f921\"]]}],\"heatmap\":[{\"type\":\"heatmap\",\"colorbar\":{\"outlinewidth\":0,\"ticks\":\"\"},\"colorscale\":[[0.0,\"#0d0887\"],[0.1111111111111111,\"#46039f\"],[0.2222222222222222,\"#7201a8\"],[0.3333333333333333,\"#9c179e\"],[0.4444444444444444,\"#bd3786\"],[0.5555555555555556,\"#d8576b\"],[0.6666666666666666,\"#ed7953\"],[0.7777777777777778,\"#fb9f3a\"],[0.8888888888888888,\"#fdca26\"],[1.0,\"#f0f921\"]]}],\"heatmapgl\":[{\"type\":\"heatmapgl\",\"colorbar\":{\"outlinewidth\":0,\"ticks\":\"\"},\"colorscale\":[[0.0,\"#0d0887\"],[0.1111111111111111,\"#46039f\"],[0.2222222222222222,\"#7201a8\"],[0.3333333333333333,\"#9c179e\"],[0.4444444444444444,\"#bd3786\"],[0.5555555555555556,\"#d8576b\"],[0.6666666666666666,\"#ed7953\"],[0.7777777777777778,\"#fb9f3a\"],[0.8888888888888888,\"#fdca26\"],[1.0,\"#f0f921\"]]}],\"contourcarpet\":[{\"type\":\"contourcarpet\",\"colorbar\":{\"outlinewidth\":0,\"ticks\":\"\"}}],\"contour\":[{\"type\":\"contour\",\"colorbar\":{\"outlinewidth\":0,\"ticks\":\"\"},\"colorscale\":[[0.0,\"#0d0887\"],[0.1111111111111111,\"#46039f\"],[0.2222222222222222,\"#7201a8\"],[0.3333333333333333,\"#9c179e\"],[0.4444444444444444,\"#bd3786\"],[0.5555555555555556,\"#d8576b\"],[0.6666666666666666,\"#ed7953\"],[0.7777777777777778,\"#fb9f3a\"],[0.8888888888888888,\"#fdca26\"],[1.0,\"#f0f921\"]]}],\"surface\":[{\"type\":\"surface\",\"colorbar\":{\"outlinewidth\":0,\"ticks\":\"\"},\"colorscale\":[[0.0,\"#0d0887\"],[0.1111111111111111,\"#46039f\"],[0.2222222222222222,\"#7201a8\"],[0.3333333333333333,\"#9c179e\"],[0.4444444444444444,\"#bd3786\"],[0.5555555555555556,\"#d8576b\"],[0.6666666666666666,\"#ed7953\"],[0.7777777777777778,\"#fb9f3a\"],[0.8888888888888888,\"#fdca26\"],[1.0,\"#f0f921\"]]}],\"mesh3d\":[{\"type\":\"mesh3d\",\"colorbar\":{\"outlinewidth\":0,\"ticks\":\"\"}}],\"scatter\":[{\"fillpattern\":{\"fillmode\":\"overlay\",\"size\":10,\"solidity\":0.2},\"type\":\"scatter\"}],\"parcoords\":[{\"type\":\"parcoords\",\"line\":{\"colorbar\":{\"outlinewidth\":0,\"ticks\":\"\"}}}],\"scatterpolargl\":[{\"type\":\"scatterpolargl\",\"marker\":{\"colorbar\":{\"outlinewidth\":0,\"ticks\":\"\"}}}],\"bar\":[{\"error_x\":{\"color\":\"#2a3f5f\"},\"error_y\":{\"color\":\"#2a3f5f\"},\"marker\":{\"line\":{\"color\":\"#E5ECF6\",\"width\":0.5},\"pattern\":{\"fillmode\":\"overlay\",\"size\":10,\"solidity\":0.2}},\"type\":\"bar\"}],\"scattergeo\":[{\"type\":\"scattergeo\",\"marker\":{\"colorbar\":{\"outlinewidth\":0,\"ticks\":\"\"}}}],\"scatterpolar\":[{\"type\":\"scatterpolar\",\"marker\":{\"colorbar\":{\"outlinewidth\":0,\"ticks\":\"\"}}}],\"histogram\":[{\"marker\":{\"pattern\":{\"fillmode\":\"overlay\",\"size\":10,\"solidity\":0.2}},\"type\":\"histogram\"}],\"scattergl\":[{\"type\":\"scattergl\",\"marker\":{\"colorbar\":{\"outlinewidth\":0,\"ticks\":\"\"}}}],\"scatter3d\":[{\"type\":\"scatter3d\",\"line\":{\"colorbar\":{\"outlinewidth\":0,\"ticks\":\"\"}},\"marker\":{\"colorbar\":{\"outlinewidth\":0,\"ticks\":\"\"}}}],\"scattermapbox\":[{\"type\":\"scattermapbox\",\"marker\":{\"colorbar\":{\"outlinewidth\":0,\"ticks\":\"\"}}}],\"scatterternary\":[{\"type\":\"scatterternary\",\"marker\":{\"colorbar\":{\"outlinewidth\":0,\"ticks\":\"\"}}}],\"scattercarpet\":[{\"type\":\"scattercarpet\",\"marker\":{\"colorbar\":{\"outlinewidth\":0,\"ticks\":\"\"}}}],\"carpet\":[{\"aaxis\":{\"endlinecolor\":\"#2a3f5f\",\"gridcolor\":\"white\",\"linecolor\":\"white\",\"minorgridcolor\":\"white\",\"startlinecolor\":\"#2a3f5f\"},\"baxis\":{\"endlinecolor\":\"#2a3f5f\",\"gridcolor\":\"white\",\"linecolor\":\"white\",\"minorgridcolor\":\"white\",\"startlinecolor\":\"#2a3f5f\"},\"type\":\"carpet\"}],\"table\":[{\"cells\":{\"fill\":{\"color\":\"#EBF0F8\"},\"line\":{\"color\":\"white\"}},\"header\":{\"fill\":{\"color\":\"#C8D4E3\"},\"line\":{\"color\":\"white\"}},\"type\":\"table\"}],\"barpolar\":[{\"marker\":{\"line\":{\"color\":\"#E5ECF6\",\"width\":0.5},\"pattern\":{\"fillmode\":\"overlay\",\"size\":10,\"solidity\":0.2}},\"type\":\"barpolar\"}],\"pie\":[{\"automargin\":true,\"type\":\"pie\"}]},\"layout\":{\"autotypenumbers\":\"strict\",\"colorway\":[\"#636efa\",\"#EF553B\",\"#00cc96\",\"#ab63fa\",\"#FFA15A\",\"#19d3f3\",\"#FF6692\",\"#B6E880\",\"#FF97FF\",\"#FECB52\"],\"font\":{\"color\":\"#2a3f5f\"},\"hovermode\":\"closest\",\"hoverlabel\":{\"align\":\"left\"},\"paper_bgcolor\":\"white\",\"plot_bgcolor\":\"#E5ECF6\",\"polar\":{\"bgcolor\":\"#E5ECF6\",\"angularaxis\":{\"gridcolor\":\"white\",\"linecolor\":\"white\",\"ticks\":\"\"},\"radialaxis\":{\"gridcolor\":\"white\",\"linecolor\":\"white\",\"ticks\":\"\"}},\"ternary\":{\"bgcolor\":\"#E5ECF6\",\"aaxis\":{\"gridcolor\":\"white\",\"linecolor\":\"white\",\"ticks\":\"\"},\"baxis\":{\"gridcolor\":\"white\",\"linecolor\":\"white\",\"ticks\":\"\"},\"caxis\":{\"gridcolor\":\"white\",\"linecolor\":\"white\",\"ticks\":\"\"}},\"coloraxis\":{\"colorbar\":{\"outlinewidth\":0,\"ticks\":\"\"}},\"colorscale\":{\"sequential\":[[0.0,\"#0d0887\"],[0.1111111111111111,\"#46039f\"],[0.2222222222222222,\"#7201a8\"],[0.3333333333333333,\"#9c179e\"],[0.4444444444444444,\"#bd3786\"],[0.5555555555555556,\"#d8576b\"],[0.6666666666666666,\"#ed7953\"],[0.7777777777777778,\"#fb9f3a\"],[0.8888888888888888,\"#fdca26\"],[1.0,\"#f0f921\"]],\"sequentialminus\":[[0.0,\"#0d0887\"],[0.1111111111111111,\"#46039f\"],[0.2222222222222222,\"#7201a8\"],[0.3333333333333333,\"#9c179e\"],[0.4444444444444444,\"#bd3786\"],[0.5555555555555556,\"#d8576b\"],[0.6666666666666666,\"#ed7953\"],[0.7777777777777778,\"#fb9f3a\"],[0.8888888888888888,\"#fdca26\"],[1.0,\"#f0f921\"]],\"diverging\":[[0,\"#8e0152\"],[0.1,\"#c51b7d\"],[0.2,\"#de77ae\"],[0.3,\"#f1b6da\"],[0.4,\"#fde0ef\"],[0.5,\"#f7f7f7\"],[0.6,\"#e6f5d0\"],[0.7,\"#b8e186\"],[0.8,\"#7fbc41\"],[0.9,\"#4d9221\"],[1,\"#276419\"]]},\"xaxis\":{\"gridcolor\":\"white\",\"linecolor\":\"white\",\"ticks\":\"\",\"title\":{\"standoff\":15},\"zerolinecolor\":\"white\",\"automargin\":true,\"zerolinewidth\":2},\"yaxis\":{\"gridcolor\":\"white\",\"linecolor\":\"white\",\"ticks\":\"\",\"title\":{\"standoff\":15},\"zerolinecolor\":\"white\",\"automargin\":true,\"zerolinewidth\":2},\"scene\":{\"xaxis\":{\"backgroundcolor\":\"#E5ECF6\",\"gridcolor\":\"white\",\"linecolor\":\"white\",\"showbackground\":true,\"ticks\":\"\",\"zerolinecolor\":\"white\",\"gridwidth\":2},\"yaxis\":{\"backgroundcolor\":\"#E5ECF6\",\"gridcolor\":\"white\",\"linecolor\":\"white\",\"showbackground\":true,\"ticks\":\"\",\"zerolinecolor\":\"white\",\"gridwidth\":2},\"zaxis\":{\"backgroundcolor\":\"#E5ECF6\",\"gridcolor\":\"white\",\"linecolor\":\"white\",\"showbackground\":true,\"ticks\":\"\",\"zerolinecolor\":\"white\",\"gridwidth\":2}},\"shapedefaults\":{\"line\":{\"color\":\"#2a3f5f\"}},\"annotationdefaults\":{\"arrowcolor\":\"#2a3f5f\",\"arrowhead\":0,\"arrowwidth\":1},\"geo\":{\"bgcolor\":\"white\",\"landcolor\":\"#E5ECF6\",\"subunitcolor\":\"white\",\"showland\":true,\"showlakes\":true,\"lakecolor\":\"white\"},\"title\":{\"x\":0.05},\"mapbox\":{\"style\":\"light\"}}},\"xaxis\":{\"anchor\":\"y\",\"domain\":[0.0,1.0],\"title\":{\"text\":\"Age\"},\"tickangle\":-45},\"yaxis\":{\"anchor\":\"x\",\"domain\":[0.0,1.0],\"title\":{\"text\":\"Acceptance Rate\"}},\"legend\":{\"title\":{\"text\":\"Annual Income\"},\"tracegroupgap\":0,\"yanchor\":\"top\",\"y\":0.99,\"xanchor\":\"right\",\"x\":1.01},\"title\":{\"text\":\"Coupon Acceptance Rate by Age and Annual Income\"},\"barmode\":\"group\",\"autosize\":false,\"width\":2500,\"height\":1000},                        {\"responsive\": true}                    ).then(function(){\n",
       "                            \n",
       "var gd = document.getElementById('bee996fd-580c-4357-8f49-b8f9cd83ae5b');\n",
       "var x = new MutationObserver(function (mutations, observer) {{\n",
       "        var display = window.getComputedStyle(gd).display;\n",
       "        if (!display || display === 'none') {{\n",
       "            console.log([gd, 'removed!']);\n",
       "            Plotly.purge(gd);\n",
       "            observer.disconnect();\n",
       "        }}\n",
       "}});\n",
       "\n",
       "// Listen for the removal of the full notebook cells\n",
       "var notebookContainer = gd.closest('#notebook-container');\n",
       "if (notebookContainer) {{\n",
       "    x.observe(notebookContainer, {childList: true});\n",
       "}}\n",
       "\n",
       "// Listen for the clearing of the current output cell\n",
       "var outputEl = gd.closest('.output');\n",
       "if (outputEl) {{\n",
       "    x.observe(outputEl, {childList: true});\n",
       "}}\n",
       "\n",
       "                        })                };                });            </script>        </div>"
      ]
     },
     "metadata": {},
     "output_type": "display_data"
    }
   ],
   "source": [
    "\n",
    "fig = px.bar(\n",
    "    sorted_group,\n",
    "    x='age',\n",
    "    y='Acceptance_Rate',\n",
    "    color='income',\n",
    "    title='Coupon Acceptance Rate by Age and Annual Income',\n",
    "    labels={'Acceptance_Rate': 'Acceptance Rate', 'age': 'Age', 'annual_income': 'Annual Income'}\n",
    ")\n",
    "\n",
    "fig.update_layout(\n",
    "    xaxis_title='Age',\n",
    "    yaxis_title='Acceptance Rate',\n",
    "    legend_title='Annual Income',\n",
    "    xaxis_tickangle=-45,  # Rotate the x-axis labels\n",
    "    barmode='group',\n",
    "    legend=dict(\n",
    "        yanchor=\"top\",\n",
    "        y=0.99,\n",
    "        xanchor=\"right\",\n",
    "        x=1.01\n",
    "    ),\n",
    "    autosize=False,\n",
    "    width=2500,\n",
    "    height=1000\n",
    ")\n",
    "fig.show()"
   ]
  },
  {
   "cell_type": "markdown",
   "metadata": {},
   "source": [
    "This graph presents a combination of grouped data, showing the average acceptance rate and count for each group based on occupation, income, and age. Key observations include:\n",
    "\n",
    "1. Low-Income Individuals and Bar Life: People with low incomes tend to enjoy bar life more and have a higher count of coupon acceptance.\n",
    "\n",
    "2. Income Below 12,500: Individuals earning less than $12,500 are most likely underage, resulting in a lower acceptance rate due to their limited participation in bar activities.\n",
    "\n",
    "These insights highlight the correlation between income levels and coupon acceptance, particularly in relation to social activities like visiting bars."
   ]
  },
  {
   "cell_type": "markdown",
   "metadata": {},
   "source": [
    "***6.coupon acceptance when we segment by passenger and coupon type.***"
   ]
  },
  {
   "cell_type": "code",
   "execution_count": 60,
   "metadata": {},
   "outputs": [
    {
     "data": {
      "text/html": [
       "<div>\n",
       "<style scoped>\n",
       "    .dataframe tbody tr th:only-of-type {\n",
       "        vertical-align: middle;\n",
       "    }\n",
       "\n",
       "    .dataframe tbody tr th {\n",
       "        vertical-align: top;\n",
       "    }\n",
       "\n",
       "    .dataframe thead th {\n",
       "        text-align: right;\n",
       "    }\n",
       "</style>\n",
       "<table border=\"1\" class=\"dataframe\">\n",
       "  <thead>\n",
       "    <tr style=\"text-align: right;\">\n",
       "      <th></th>\n",
       "      <th>passanger</th>\n",
       "      <th>count</th>\n",
       "    </tr>\n",
       "  </thead>\n",
       "  <tbody>\n",
       "    <tr>\n",
       "      <th>0</th>\n",
       "      <td>Alone</td>\n",
       "      <td>7305</td>\n",
       "    </tr>\n",
       "    <tr>\n",
       "      <th>1</th>\n",
       "      <td>Friend(s)</td>\n",
       "      <td>3298</td>\n",
       "    </tr>\n",
       "    <tr>\n",
       "      <th>2</th>\n",
       "      <td>Partner</td>\n",
       "      <td>1075</td>\n",
       "    </tr>\n",
       "    <tr>\n",
       "      <th>3</th>\n",
       "      <td>Kid(s)</td>\n",
       "      <td>1006</td>\n",
       "    </tr>\n",
       "  </tbody>\n",
       "</table>\n",
       "</div>"
      ],
      "text/plain": [
       "   passanger  count\n",
       "0      Alone   7305\n",
       "1  Friend(s)   3298\n",
       "2    Partner   1075\n",
       "3     Kid(s)   1006"
      ]
     },
     "execution_count": 60,
     "metadata": {},
     "output_type": "execute_result"
    }
   ],
   "source": [
    "pass_data = data['passanger'].value_counts().reset_index().sort_values(by = 'count', ascending = False)\n",
    "pass_data"
   ]
  },
  {
   "cell_type": "code",
   "execution_count": 64,
   "metadata": {},
   "outputs": [],
   "source": [
    "coupon_accep_noaccept_prob_pass_data = None\n",
    "for passng in pass_data.iloc[:, 0]:\n",
    "    coupon_accepted_type_pass_prob_data = (data.query('passanger == @passng & Y == 1').groupby('coupon')[['Y']].count() \\\n",
    "        / data.query('passanger == @passng').groupby('coupon')[['Y']].count()) * 100\n",
    "    coupon_noaccepted_type_pass_prob_data = (data.query('passanger == @passng & Y == 0').groupby('coupon')[['Y']].count() \\\n",
    "        / data.query('passanger == @passng').groupby('coupon')[['Y']].count()) * 100\n",
    "    \n",
    "    coupon_accepted_type_pass_prob_data['Accepted'] = 'Yes'\n",
    "    coupon_noaccepted_type_pass_prob_data['Accepted'] = 'No'\n",
    "    coupon_accepted_type_pass_prob_data['passanger'] = passng\n",
    "    coupon_noaccepted_type_pass_prob_data['passanger'] = passng\n",
    "   \n",
    "    coupon_accep_noaccept_prob_pass_data = pd.concat(\n",
    "        [coupon_accepted_type_pass_prob_data, \n",
    "        coupon_noaccepted_type_pass_prob_data,\n",
    "        coupon_accep_noaccept_prob_pass_data]\n",
    "    )\n",
    "    \n",
    "coupon_accep_noaccept_prob_pass_data = coupon_accep_noaccept_prob_pass_data.reset_index().sort_values(by = ['Y'], ascending = [False])"
   ]
  },
  {
   "cell_type": "code",
   "execution_count": 68,
   "metadata": {},
   "outputs": [
    {
     "data": {
      "text/plain": [
       "Text(0.5, 0.98, 'Coupon Probability By Coupon Type and Passanger with AceptedCoupon in (1,0)')"
      ]
     },
     "execution_count": 68,
     "metadata": {},
     "output_type": "execute_result"
    },
    {
     "data": {
      "image/png": "[encoded data removed]",
      "text/plain": [
       "<Figure size 1494.5x360 with 4 Axes>"
      ]
     },
     "metadata": {
      "needs_background": "light"
     },
     "output_type": "display_data"
    }
   ],
   "source": [
    "fig = sns.catplot(\n",
    "    x=\"coupon\", \n",
    "    data=coupon_accep_noaccept_prob_pass_data, \n",
    "    y=\"Y\", \n",
    "    col='passanger', \n",
    "    hue=\"Accepted\",\n",
    "    kind=\"bar\")\n",
    "fig.set_axis_labels(\"Coupon Type\", \"Probability %\")\n",
    "fig.set_xticklabels(rotation=45)\n",
    "fig.fig.subplots_adjust(top=0.85)\n",
    "fig.fig.suptitle('Coupon Probability By Coupon Type and Passanger with AceptedCoupon in (1,0)')"
   ]
  },
  {
   "cell_type": "markdown",
   "metadata": {},
   "source": [
    "We can deduce that the most accepted coupons for all passenger types are 'Restaurant(<20)' and 'Carry out & Take away'. A notable observation is that the 'Bar' coupon type is frequently rejected when the passenger is 'Kid(s)', which is understandable since children cannot enter establishments serving alcoholic beverages, and drivers tend to ignore these coupons for that reason. Overall, the 'Bar' coupon is the least likely to be accepted across all passenger categories, except for the 'Friend' category."
   ]
  },
  {
   "cell_type": "markdown",
   "metadata": {},
   "source": [
    "### Conclusion"
   ]
  },
  {
   "cell_type": "markdown",
   "metadata": {},
   "source": [
    "1. The analysis and visualization of probability distributions highlight a distinct difference between drivers who accept coupons and those who do not. Factors such as job type, age range, and yearly income, when combined, seem to significantly influence coupon acceptance rates. Our observations show that individuals from specific professional backgrounds and financial standings are more likely to accept coupons. Notably, acceptance rates vary across different age groups, emphasizing that age plays a critical role in drivers' decisions to accept coupons.\n",
    "\n",
    "2. Based on these insights, data-driven marketing strategies can be developed. For instance, younger customers aged 21 to 26, as well as those with very low incomes (below $12,500) or very high incomes (above $100,000 annually), show higher receptivity to coupon offers. Although it is uncertain whether this is due to effective marketing or inherent characteristics of the variables, it suggests the necessity of creating and implementing market strategies to target these two groups for maximizing profits.\n",
    "\n",
    "3. The coupons 'Restaurant(<20)' and 'Carry out & Take away' has a higher probability of being accepted, 'Bar' is among the coupons that tend less likely to be accepted by condcutors. The driver with a 'friend(s)' passenger type is the most likely to accept the coupon, while the 'Kid(s)' type is the least likely.\n",
    "\n",
    "4. In summary, comprehending these probability distributions that drive the trends is essential for developing predictive models for future coupon distribution strategies. This approach will enable more strategic marketing investments and yield better results."
   ]
  },
  {
   "cell_type": "code",
   "execution_count": null,
   "metadata": {},
   "outputs": [],
   "source": []
  }
 ],
 "metadata": {
  "kernelspec": {
   "display_name": "Python 3",
   "language": "python",
   "name": "python3"
  },
  "language_info": {
   "codemirror_mode": {
    "name": "ipython",
    "version": 3
   },
   "file_extension": ".py",
   "mimetype": "text/x-python",
   "name": "python",
   "nbconvert_exporter": "python",
   "pygments_lexer": "ipython3",
   "version": "3.8.5"
  },
  "widgets": {
   "application/vnd.jupyter.widget-state+json": {
    "state": {},
    "version_major": 2,
    "version_minor": 0
   }
  }
 },
 "nbformat": 4,
 "nbformat_minor": 4
}
